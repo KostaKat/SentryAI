{
 "cells": [
  {
   "cell_type": "code",
   "execution_count": 1,
   "metadata": {
    "execution": {
     "iopub.execute_input": "2024-04-29T16:42:51.852501Z",
     "iopub.status.busy": "2024-04-29T16:42:51.852026Z",
     "iopub.status.idle": "2024-04-29T16:42:53.267067Z",
     "shell.execute_reply": "2024-04-29T16:42:53.266556Z"
    }
   },
   "outputs": [],
   "source": [
    "import torch\n",
    "import torch.nn as nn\n",
    "import torch.nn.functional as F\n",
    "import cv2\n",
    "\n",
    "import numpy as np\n",
    "from collections import defaultdict\n",
    "\n",
    "\n",
    "from PIL import Image, ImageFilter\n",
    "import io\n",
    "import re\n",
    "import random\n",
    "import numpy.random as npr\n",
    "from skimage import data\n",
    "from scipy.ndimage import rotate\n",
    "from kernels import *\n",
    "import torchvision\n",
    "from torchvision import models\n",
    "import os\n",
    "from torchvision.transforms.functional import to_pil_image\n",
    "from torch.utils.data import Dataset, DataLoader, Subset\n",
    "\n",
    "import torchvision.transforms as transforms\n",
    " \n",
    "import my_utils as ut\n",
    "import old_utils_averaged_filters as old_ut_avg\n",
    "import old_utils_multi_image_old_snr as old_ut_multi\n",
    "from transformers import Swinv2ForImageClassification, SwinConfig\n",
    "from torch.optim import AdamW\n",
    "from torchvision import transforms, datasets\n",
    "\n"
   ]
  },
  {
   "cell_type": "code",
   "execution_count": 2,
   "metadata": {
    "execution": {
     "iopub.execute_input": "2024-04-29T16:42:53.268875Z",
     "iopub.status.busy": "2024-04-29T16:42:53.268591Z",
     "iopub.status.idle": "2024-04-29T16:42:55.995635Z",
     "shell.execute_reply": "2024-04-29T16:42:55.995084Z"
    }
   },
   "outputs": [],
   "source": [
    "\n",
    "transform = transforms.Compose([\n",
    "    transforms.ToTensor(),\n",
    "    transforms.Normalize(mean=[0.485, 0.456, 0.406], std=[0.229, 0.224, 0.225]),\n",
    "   \n",
    "])\n",
    "\n",
    "# Create dataset instances\n",
    "train_dataset = old_ut_multi.DatasetAI(root_dir='/mnt/e/GenImage', transform=transform, split='train')\n",
    "val_test_dataset = old_ut_multi.DatasetAI(root_dir='/mnt/e/GenImage', transform=transform, split='val')\n",
    "\n",
    "\n",
    "train_subset,val_subset, test_subset = ut.split_datasets(train_dataset, val_test_dataset, 30000, 3750, 3750)\n",
    "\n",
    "\n",
    "\n",
    "\n",
    "\n",
    "train_loader = DataLoader(train_subset, batch_size=32, shuffle=True, num_workers=4)\n",
    "val_loader = DataLoader(val_subset, batch_size=32, shuffle=False, num_workers=4)\n",
    "test_loader = DataLoader(test_subset, batch_size=32, shuffle=False, num_workers=4)\n",
    "\n"
   ]
  },
  {
   "cell_type": "code",
   "execution_count": 3,
   "metadata": {
    "execution": {
     "iopub.execute_input": "2024-04-29T16:42:55.998032Z",
     "iopub.status.busy": "2024-04-29T16:42:55.997534Z",
     "iopub.status.idle": "2024-04-29T16:42:56.033626Z",
     "shell.execute_reply": "2024-04-29T16:42:56.033190Z"
    }
   },
   "outputs": [
    {
     "name": "stdout",
     "output_type": "stream",
     "text": [
      "Check overlap between datasets:\n",
      "\n",
      "\n",
      "Train Subset and Validation Subset:\n",
      "No actual data overlap detected.\n",
      "\n",
      "Train Subset and Test Subset:\n",
      "No actual data overlap detected.\n",
      "\n",
      "Validation Subset and Test Subset:\n",
      "No actual data overlap detected.\n",
      "\n",
      "\n",
      "Train Subset Distribution:\n",
      "\n",
      "Total samples in subset: 30000\n",
      "Model ADM, Class nature: 1815 (6.05%)\n",
      "Model ADM, Class ai: 1935 (6.45%)\n",
      "Model BigGAN, Class ai: 1867 (6.22%)\n",
      "Model BigGAN, Class nature: 1883 (6.28%)\n",
      "Model Midjourney, Class ai: 1884 (6.28%)\n",
      "Model Midjourney, Class nature: 1866 (6.22%)\n",
      "Model VQDM, Class ai: 1810 (6.03%)\n",
      "Model VQDM, Class nature: 1940 (6.47%)\n",
      "Model glide, Class ai: 1891 (6.30%)\n",
      "Model glide, Class nature: 1859 (6.20%)\n",
      "Model stable_diffusion_v_1_4, Class ai: 1892 (6.31%)\n",
      "Model stable_diffusion_v_1_4, Class nature: 1858 (6.19%)\n",
      "Model stable_diffusion_v_1_5, Class nature: 1828 (6.09%)\n",
      "Model stable_diffusion_v_1_5, Class ai: 1922 (6.41%)\n",
      "Model wukong, Class nature: 1852 (6.17%)\n",
      "Model wukong, Class ai: 1898 (6.33%)\n",
      "\n",
      "Validation Subset Distribution:\n",
      "\n",
      "Total samples in subset: 3744\n",
      "Model ADM, Class nature: 237 (6.33%)\n",
      "Model ADM, Class ai: 231 (6.17%)\n",
      "Model BigGAN, Class nature: 237 (6.33%)\n",
      "Model BigGAN, Class ai: 231 (6.17%)\n",
      "Model Midjourney, Class nature: 230 (6.14%)\n",
      "Model Midjourney, Class ai: 238 (6.36%)\n",
      "Model VQDM, Class ai: 211 (5.64%)\n",
      "Model VQDM, Class nature: 257 (6.86%)\n",
      "Model glide, Class nature: 220 (5.88%)\n",
      "Model glide, Class ai: 248 (6.62%)\n",
      "Model stable_diffusion_v_1_4, Class nature: 219 (5.85%)\n",
      "Model stable_diffusion_v_1_4, Class ai: 249 (6.65%)\n",
      "Model stable_diffusion_v_1_5, Class nature: 234 (6.25%)\n",
      "Model stable_diffusion_v_1_5, Class ai: 234 (6.25%)\n",
      "Model wukong, Class ai: 253 (6.76%)\n",
      "Model wukong, Class nature: 215 (5.74%)\n",
      "\n",
      "Test Subset Distribution:\n",
      "\n",
      "Total samples in subset: 3744\n",
      "Model ADM, Class ai: 227 (6.06%)\n",
      "Model ADM, Class nature: 241 (6.44%)\n",
      "Model BigGAN, Class nature: 237 (6.33%)\n",
      "Model BigGAN, Class ai: 231 (6.17%)\n",
      "Model Midjourney, Class nature: 250 (6.68%)\n",
      "Model Midjourney, Class ai: 218 (5.82%)\n",
      "Model VQDM, Class nature: 240 (6.41%)\n",
      "Model VQDM, Class ai: 228 (6.09%)\n",
      "Model glide, Class ai: 222 (5.93%)\n",
      "Model glide, Class nature: 246 (6.57%)\n",
      "Model stable_diffusion_v_1_4, Class nature: 237 (6.33%)\n",
      "Model stable_diffusion_v_1_4, Class ai: 231 (6.17%)\n",
      "Model stable_diffusion_v_1_5, Class nature: 246 (6.57%)\n",
      "Model stable_diffusion_v_1_5, Class ai: 222 (5.93%)\n",
      "Model wukong, Class ai: 227 (6.06%)\n",
      "Model wukong, Class nature: 241 (6.44%)\n"
     ]
    }
   ],
   "source": [
    "#check distribution of classes \n",
    "\n",
    "print(\"Check overlap between datasets:\\n\")\n",
    "print(\"\\nTrain Subset and Validation Subset:\")\n",
    "ut.check_data_overlap(train_subset, val_subset)\n",
    "print(\"\\nTrain Subset and Test Subset:\")\n",
    "ut.check_data_overlap(train_subset, test_subset)\n",
    "print(\"\\nValidation Subset and Test Subset:\")\n",
    "ut.check_data_overlap(val_subset, test_subset)\n",
    "\n",
    "print()\n",
    "print(\"\\nTrain Subset Distribution:\\n\")\n",
    "ut.print_model_class_distribution(train_dataset, train_subset.indices)\n",
    "print(\"\\nValidation Subset Distribution:\\n\")\n",
    "ut.print_model_class_distribution(val_test_dataset, val_subset.indices)\n",
    "print(\"\\nTest Subset Distribution:\\n\")\n",
    "ut.print_model_class_distribution(val_test_dataset, test_subset.indices)"
   ]
  },
  {
   "cell_type": "markdown",
   "metadata": {},
   "source": [
    "## old smash and reconstruct "
   ]
  },
  {
   "cell_type": "code",
   "execution_count": 4,
   "metadata": {
    "execution": {
     "iopub.execute_input": "2024-04-29T16:42:56.035190Z",
     "iopub.status.busy": "2024-04-29T16:42:56.034959Z",
     "iopub.status.idle": "2024-04-29T16:42:56.039534Z",
     "shell.execute_reply": "2024-04-29T16:42:56.039148Z"
    }
   },
   "outputs": [],
   "source": [
    "class BaseClassifier(nn.Module):\n",
    "    def __init__(self,kernels):\n",
    "        super(BaseClassifier, self).__init__()\n",
    "        self.feature_combiner = ut.CNNBlock(kernels)\n",
    "        self.feature_combiner2 = ut.CNNBlock(kernels)\n",
    "        self.classifier = ut.DeepClassifier() \n",
    "\n",
    " \n",
    "    def forward(self, rich, poor):\n",
    "       \n",
    "        x = self.feature_combiner(rich)\n",
    "        y = self.feature_combiner2(poor)   \n",
    "        feature_difference = x - y\n",
    "        outputs = self.classifier(feature_difference)\n",
    "\n",
    "        return outputs\n",
    "class ResNetClassifier(nn.Module):\n",
    "    def __init__(self,kernels):\n",
    "        super(ResNetClassifier, self).__init__()\n",
    "        self.feature_combiner = ut.CNNBlock(kernels)\n",
    "        self.feature_combiner2 = ut.CNNBlock(kernels)\n",
    "        resnet_weights = models.ResNet50_Weights.DEFAULT\n",
    "        self.resnet = models.resnet50(weights=resnet_weights)\n",
    "        # Remove the final fully connected layer\n",
    "        self.features = nn.Sequential(*list(self.resnet.children())[:-2])\n",
    "        # Add a new classifier layer\n",
    "        self.classifier = nn.Linear(self.resnet.fc.in_features, 2)\n",
    "        # Adaptive pool to make sure output from feature maps is of fixed size\n",
    "        self.adaptive_pool = nn.AdaptiveAvgPool2d((1, 1))\n",
    "\n",
    " \n",
    "    def forward(self, rich, poor):\n",
    "       \n",
    "        x = self.feature_combiner(rich)\n",
    "        y = self.feature_combiner2(poor)   \n",
    "        feature_difference = x - y\n",
    "        \n",
    "        # Process feature difference through the ResNet features\n",
    "        features = self.features(feature_difference)\n",
    "        pooled_features = self.adaptive_pool(features)\n",
    "        flat_features = torch.flatten(pooled_features, 1)\n",
    "        outputs = self.classifier(flat_features)\n",
    "\n",
    "        return outputs\n",
    "class SwinClassification(nn.Module):\n",
    "    def __init__(self,kernels):\n",
    "        super(SwinClassification, self).__init__()\n",
    "        self.feature_combiner = ut.CNNBlock(kernels)\n",
    "        self.feature_combiner2 = ut.CNNBlock(kernels)\n",
    "        config = SwinConfig.from_pretrained('microsoft/swinv2-tiny-patch4-window8-256',num_classes=2)\n",
    "        self.transformer = Swinv2ForImageClassification.from_pretrained(\n",
    "            \"microsoft/swinv2-tiny-patch4-window8-256\",\n",
    "            config=config\n",
    "        )\n",
    "        \n",
    "        self.transformer.classifier = nn.Linear(config.hidden_size, 2) \n",
    "\n",
    " \n",
    "    def forward(self, rich, poor):\n",
    "       \n",
    "        x = self.feature_combiner(rich)\n",
    "        y = self.feature_combiner2(poor)   \n",
    "        feature_difference = x - y\n",
    "        outputs = self.transformer(feature_difference)\n",
    "\n",
    "        return outputs.logits\n"
   ]
  },
  {
   "cell_type": "markdown",
   "metadata": {},
   "source": [
    "# Frozen models old smash and reconstruct"
   ]
  },
  {
   "cell_type": "code",
   "execution_count": 5,
   "metadata": {
    "execution": {
     "iopub.execute_input": "2024-04-29T16:42:56.040871Z",
     "iopub.status.busy": "2024-04-29T16:42:56.040666Z",
     "iopub.status.idle": "2024-04-29T18:07:59.436596Z",
     "shell.execute_reply": "2024-04-29T18:07:59.436116Z"
    }
   },
   "outputs": [
    {
     "name": "stdout",
     "output_type": "stream",
     "text": [
      "Training SWIN Transformer Frozen w/OLDSNR\n",
      "\n",
      "Training with Learning Rate: 0.001 \n",
      "\n",
      "\n"
     ]
    },
    {
     "name": "stderr",
     "output_type": "stream",
     "text": [
      "You are using a model of type swinv2 to instantiate a model of type swin. This is not supported for all configurations of models and can yield errors.\n"
     ]
    },
    {
     "name": "stdout",
     "output_type": "stream",
     "text": [
      "No saved model found. Starting fresh!\n"
     ]
    },
    {
     "name": "stdout",
     "output_type": "stream",
     "text": [
      "Epoch 1/10\n",
      ",Train Loss: 0.5943, Train Acc: 0.6789, Val Loss: 0.5347, Val Acc: 0.7209\n",
      "\n",
      "Saved new best model with accuracy: 0.7209\n"
     ]
    },
    {
     "name": "stdout",
     "output_type": "stream",
     "text": [
      "Epoch 2/10\n",
      ",Train Loss: 0.5528, Train Acc: 0.7147, Val Loss: 0.4898, Val Acc: 0.7585\n",
      "\n",
      "Saved new best model with accuracy: 0.7585\n"
     ]
    },
    {
     "name": "stdout",
     "output_type": "stream",
     "text": [
      "Epoch 3/10\n",
      ",Train Loss: 0.5377, Train Acc: 0.7272, Val Loss: 0.4810, Val Acc: 0.7593\n",
      "\n",
      "Saved new best model with accuracy: 0.7593\n"
     ]
    },
    {
     "name": "stdout",
     "output_type": "stream",
     "text": [
      "Epoch 4/10\n",
      ",Train Loss: 0.5258, Train Acc: 0.7358, Val Loss: 0.4841, Val Acc: 0.7596\n",
      "\n",
      "Saved new best model with accuracy: 0.7596\n"
     ]
    },
    {
     "name": "stdout",
     "output_type": "stream",
     "text": [
      "Epoch 5/10\n",
      ",Train Loss: 0.5160, Train Acc: 0.7440, Val Loss: 0.4663, Val Acc: 0.7674\n",
      "\n",
      "Saved new best model with accuracy: 0.7674\n"
     ]
    },
    {
     "name": "stdout",
     "output_type": "stream",
     "text": [
      "Epoch 6/10\n",
      ",Train Loss: 0.5086, Train Acc: 0.7478, Val Loss: 0.4708, Val Acc: 0.7687\n",
      "\n",
      "Saved new best model with accuracy: 0.7687\n"
     ]
    },
    {
     "name": "stdout",
     "output_type": "stream",
     "text": [
      "Epoch 7/10\n",
      ",Train Loss: 0.5095, Train Acc: 0.7500, Val Loss: 0.4527, Val Acc: 0.7703\n",
      "\n",
      "Saved new best model with accuracy: 0.7703\n"
     ]
    },
    {
     "name": "stdout",
     "output_type": "stream",
     "text": [
      "Epoch 8/10\n",
      ",Train Loss: 0.4975, Train Acc: 0.7590, Val Loss: 0.4602, Val Acc: 0.7786\n",
      "\n",
      "Saved new best model with accuracy: 0.7786\n"
     ]
    },
    {
     "name": "stdout",
     "output_type": "stream",
     "text": [
      "Epoch 9/10\n",
      ",Train Loss: 0.5008, Train Acc: 0.7573, Val Loss: 0.4369, Val Acc: 0.7911\n",
      "\n",
      "Saved new best model with accuracy: 0.7911\n"
     ]
    },
    {
     "name": "stdout",
     "output_type": "stream",
     "text": [
      "Epoch 10/10\n",
      ",Train Loss: 0.5015, Train Acc: 0.7546, Val Loss: 0.4433, Val Acc: 0.7834\n",
      "\n",
      "Training with Learning Rate: 0.0001 \n",
      "\n",
      "\n"
     ]
    },
    {
     "name": "stderr",
     "output_type": "stream",
     "text": [
      "You are using a model of type swinv2 to instantiate a model of type swin. This is not supported for all configurations of models and can yield errors.\n"
     ]
    },
    {
     "name": "stdout",
     "output_type": "stream",
     "text": [
      "Loaded previous best model with accuracy: 0.7911324786324786\n"
     ]
    },
    {
     "name": "stdout",
     "output_type": "stream",
     "text": [
      "Epoch 1/10\n",
      ",Train Loss: 0.6189, Train Acc: 0.6489, Val Loss: 0.5505, Val Acc: 0.7174\n",
      "\n"
     ]
    },
    {
     "name": "stdout",
     "output_type": "stream",
     "text": [
      "Epoch 2/10\n",
      ",Train Loss: 0.5823, Train Acc: 0.6864, Val Loss: 0.5287, Val Acc: 0.7209\n",
      "\n"
     ]
    },
    {
     "name": "stdout",
     "output_type": "stream",
     "text": [
      "Epoch 3/10\n",
      ",Train Loss: 0.5715, Train Acc: 0.6977, Val Loss: 0.5154, Val Acc: 0.7377\n",
      "\n"
     ]
    },
    {
     "name": "stdout",
     "output_type": "stream",
     "text": [
      "Epoch 4/10\n",
      ",Train Loss: 0.5618, Train Acc: 0.7055, Val Loss: 0.5104, Val Acc: 0.7425\n",
      "\n"
     ]
    },
    {
     "name": "stdout",
     "output_type": "stream",
     "text": [
      "Epoch 5/10\n",
      ",Train Loss: 0.5550, Train Acc: 0.7135, Val Loss: 0.5079, Val Acc: 0.7420\n",
      "\n"
     ]
    },
    {
     "name": "stdout",
     "output_type": "stream",
     "text": [
      "Epoch 6/10\n",
      ",Train Loss: 0.5481, Train Acc: 0.7187, Val Loss: 0.5010, Val Acc: 0.7489\n",
      "\n"
     ]
    },
    {
     "name": "stdout",
     "output_type": "stream",
     "text": [
      "Epoch 7/10\n",
      ",Train Loss: 0.5453, Train Acc: 0.7198, Val Loss: 0.4880, Val Acc: 0.7561\n",
      "\n"
     ]
    },
    {
     "name": "stdout",
     "output_type": "stream",
     "text": [
      "Epoch 8/10\n",
      ",Train Loss: 0.5408, Train Acc: 0.7211, Val Loss: 0.4857, Val Acc: 0.7612\n",
      "\n"
     ]
    },
    {
     "name": "stdout",
     "output_type": "stream",
     "text": [
      "Epoch 9/10\n",
      ",Train Loss: 0.5356, Train Acc: 0.7268, Val Loss: 0.4855, Val Acc: 0.7618\n",
      "\n"
     ]
    },
    {
     "name": "stdout",
     "output_type": "stream",
     "text": [
      "Epoch 10/10\n",
      ",Train Loss: 0.5299, Train Acc: 0.7309, Val Loss: 0.4932, Val Acc: 0.7585\n",
      "\n",
      "Training with Learning Rate: 1e-05 \n",
      "\n",
      "\n"
     ]
    },
    {
     "name": "stderr",
     "output_type": "stream",
     "text": [
      "You are using a model of type swinv2 to instantiate a model of type swin. This is not supported for all configurations of models and can yield errors.\n"
     ]
    },
    {
     "name": "stdout",
     "output_type": "stream",
     "text": [
      "Loaded previous best model with accuracy: 0.7911324786324786\n"
     ]
    },
    {
     "name": "stdout",
     "output_type": "stream",
     "text": [
      "Epoch 1/10\n",
      ",Train Loss: 0.6833, Train Acc: 0.5575, Val Loss: 0.6522, Val Acc: 0.6627\n",
      "\n"
     ]
    },
    {
     "name": "stdout",
     "output_type": "stream",
     "text": [
      "Epoch 2/10\n",
      ",Train Loss: 0.6514, Train Acc: 0.6276, Val Loss: 0.6229, Val Acc: 0.6816\n",
      "\n"
     ]
    },
    {
     "name": "stdout",
     "output_type": "stream",
     "text": [
      "Epoch 3/10\n",
      ",Train Loss: 0.6372, Train Acc: 0.6373, Val Loss: 0.6086, Val Acc: 0.6846\n",
      "\n"
     ]
    },
    {
     "name": "stdout",
     "output_type": "stream",
     "text": [
      "Epoch 4/10\n",
      ",Train Loss: 0.6257, Train Acc: 0.6479, Val Loss: 0.5957, Val Acc: 0.6995\n",
      "\n"
     ]
    },
    {
     "name": "stdout",
     "output_type": "stream",
     "text": [
      "Epoch 5/10\n",
      ",Train Loss: 0.6215, Train Acc: 0.6542, Val Loss: 0.5895, Val Acc: 0.6968\n",
      "\n"
     ]
    },
    {
     "name": "stdout",
     "output_type": "stream",
     "text": [
      "Epoch 6/10\n",
      ",Train Loss: 0.6162, Train Acc: 0.6563, Val Loss: 0.5838, Val Acc: 0.6995\n",
      "\n"
     ]
    },
    {
     "name": "stdout",
     "output_type": "stream",
     "text": [
      "Epoch 7/10\n",
      ",Train Loss: 0.6118, Train Acc: 0.6609, Val Loss: 0.5763, Val Acc: 0.7073\n",
      "\n"
     ]
    },
    {
     "name": "stdout",
     "output_type": "stream",
     "text": [
      "Epoch 8/10\n",
      ",Train Loss: 0.6077, Train Acc: 0.6637, Val Loss: 0.5739, Val Acc: 0.7019\n",
      "\n"
     ]
    },
    {
     "name": "stdout",
     "output_type": "stream",
     "text": [
      "Epoch 9/10\n",
      ",Train Loss: 0.6043, Train Acc: 0.6668, Val Loss: 0.5727, Val Acc: 0.7054\n",
      "\n"
     ]
    },
    {
     "name": "stdout",
     "output_type": "stream",
     "text": [
      "Epoch 10/10\n",
      ",Train Loss: 0.6032, Train Acc: 0.6685, Val Loss: 0.5690, Val Acc: 0.7075\n",
      "\n",
      "Training with Learning Rate: 1e-06 \n",
      "\n",
      "\n"
     ]
    },
    {
     "name": "stderr",
     "output_type": "stream",
     "text": [
      "You are using a model of type swinv2 to instantiate a model of type swin. This is not supported for all configurations of models and can yield errors.\n"
     ]
    },
    {
     "name": "stdout",
     "output_type": "stream",
     "text": [
      "Loaded previous best model with accuracy: 0.7911324786324786\n"
     ]
    },
    {
     "name": "stdout",
     "output_type": "stream",
     "text": [
      "Epoch 1/10\n",
      ",Train Loss: 0.7138, Train Acc: 0.4985, Val Loss: 0.7020, Val Acc: 0.5176\n",
      "\n"
     ]
    },
    {
     "name": "stdout",
     "output_type": "stream",
     "text": [
      "Epoch 2/10\n",
      ",Train Loss: 0.7024, Train Acc: 0.5114, Val Loss: 0.6894, Val Acc: 0.5491\n",
      "\n"
     ]
    },
    {
     "name": "stdout",
     "output_type": "stream",
     "text": [
      "Epoch 3/10\n",
      ",Train Loss: 0.6939, Train Acc: 0.5314, Val Loss: 0.6805, Val Acc: 0.5652\n",
      "\n"
     ]
    },
    {
     "name": "stdout",
     "output_type": "stream",
     "text": [
      "Epoch 4/10\n",
      ",Train Loss: 0.6873, Train Acc: 0.5517, Val Loss: 0.6725, Val Acc: 0.5964\n",
      "\n"
     ]
    },
    {
     "name": "stdout",
     "output_type": "stream",
     "text": [
      "Epoch 5/10\n",
      ",Train Loss: 0.6828, Train Acc: 0.5654, Val Loss: 0.6635, Val Acc: 0.6234\n",
      "\n"
     ]
    },
    {
     "name": "stdout",
     "output_type": "stream",
     "text": [
      "Epoch 6/10\n",
      ",Train Loss: 0.6780, Train Acc: 0.5787, Val Loss: 0.6567, Val Acc: 0.6322\n",
      "\n"
     ]
    },
    {
     "name": "stdout",
     "output_type": "stream",
     "text": [
      "Epoch 7/10\n",
      ",Train Loss: 0.6727, Train Acc: 0.5909, Val Loss: 0.6517, Val Acc: 0.6477\n",
      "\n"
     ]
    },
    {
     "name": "stdout",
     "output_type": "stream",
     "text": [
      "Epoch 8/10\n",
      ",Train Loss: 0.6690, Train Acc: 0.6003, Val Loss: 0.6454, Val Acc: 0.6501\n",
      "\n"
     ]
    },
    {
     "name": "stdout",
     "output_type": "stream",
     "text": [
      "Epoch 9/10\n",
      ",Train Loss: 0.6649, Train Acc: 0.6032, Val Loss: 0.6413, Val Acc: 0.6504\n",
      "\n"
     ]
    },
    {
     "name": "stdout",
     "output_type": "stream",
     "text": [
      "Epoch 10/10\n",
      ",Train Loss: 0.6601, Train Acc: 0.6137, Val Loss: 0.6354, Val Acc: 0.6624\n",
      "\n"
     ]
    }
   ],
   "source": [
    "#Swin Transformer\n",
    "learning_rates = [1e-3,1e-4, 1e-5, 1e-6]\n",
    "print(\"Training SWIN Transformer Frozen w/OLDSNR\\n\")\n",
    "\n",
    "for learning_rate in learning_rates:\n",
    "    print(f\"Training with Learning Rate: {learning_rate} \\n\\n\")\n",
    "    device = torch.device(\"cuda\" if torch.cuda.is_available() else \"cpu\")\n",
    "    kernels =  ut.apply_high_pass_filter()\n",
    "    model = SwinClassification(kernels).to(device)\n",
    "    optimizer = AdamW(model.parameters(), lr=learning_rate)\n",
    "    best_model_path = '/home/kosta/code/School/SentryAI/pth/best_model_oldSMR_SWIN_frozen.pth'\n",
    "\n",
    "    #freeze the transformer layers\n",
    "    for param in model.transformer.parameters():\n",
    "        param.requires_grad = False\n",
    "    #unfreeze the classifier layer\n",
    "    for param in model.transformer.classifier.parameters():\n",
    "        param.requires_grad = True\n",
    "\n",
    "    ut.train_and_validate(model, train_loader, val_loader, optimizer, device, num_epochs=10, best_model_path= best_model_path)\n",
    "\n"
   ]
  },
  {
   "cell_type": "code",
   "execution_count": 6,
   "metadata": {
    "execution": {
     "iopub.execute_input": "2024-04-29T18:07:59.438907Z",
     "iopub.status.busy": "2024-04-29T18:07:59.438501Z",
     "iopub.status.idle": "2024-04-29T19:05:49.417451Z",
     "shell.execute_reply": "2024-04-29T19:05:49.416746Z"
    }
   },
   "outputs": [
    {
     "name": "stdout",
     "output_type": "stream",
     "text": [
      "Training RES Frozen w/OLDSNR\n",
      "\n",
      "Training with Learning Rate: 0.001 \n",
      "\n",
      "\n"
     ]
    },
    {
     "name": "stdout",
     "output_type": "stream",
     "text": [
      "No saved model found. Starting fresh!\n"
     ]
    },
    {
     "name": "stdout",
     "output_type": "stream",
     "text": [
      "Epoch 1/10\n",
      ",Train Loss: 0.5553, Train Acc: 0.7152, Val Loss: 0.4974, Val Acc: 0.7634\n",
      "\n",
      "Saved new best model with accuracy: 0.7634\n"
     ]
    },
    {
     "name": "stdout",
     "output_type": "stream",
     "text": [
      "Epoch 2/10\n",
      ",Train Loss: 0.5246, Train Acc: 0.7424, Val Loss: 0.4942, Val Acc: 0.7716\n",
      "\n",
      "Saved new best model with accuracy: 0.7716\n"
     ]
    },
    {
     "name": "stdout",
     "output_type": "stream",
     "text": [
      "Epoch 3/10\n",
      ",Train Loss: 0.5118, Train Acc: 0.7507, Val Loss: 0.4952, Val Acc: 0.7524\n",
      "\n"
     ]
    },
    {
     "name": "stdout",
     "output_type": "stream",
     "text": [
      "Epoch 4/10\n",
      ",Train Loss: 0.5079, Train Acc: 0.7571, Val Loss: 0.5073, Val Acc: 0.7503\n",
      "\n"
     ]
    },
    {
     "name": "stdout",
     "output_type": "stream",
     "text": [
      "Epoch 5/10\n",
      ",Train Loss: 0.4989, Train Acc: 0.7601, Val Loss: 0.4821, Val Acc: 0.7679\n",
      "\n"
     ]
    },
    {
     "name": "stdout",
     "output_type": "stream",
     "text": [
      "Epoch 6/10\n",
      ",Train Loss: 0.4987, Train Acc: 0.7603, Val Loss: 0.4919, Val Acc: 0.7601\n",
      "\n"
     ]
    },
    {
     "name": "stdout",
     "output_type": "stream",
     "text": [
      "Epoch 7/10\n",
      ",Train Loss: 0.4932, Train Acc: 0.7631, Val Loss: 0.4896, Val Acc: 0.7521\n",
      "\n"
     ]
    },
    {
     "name": "stdout",
     "output_type": "stream",
     "text": [
      "Epoch 8/10\n",
      ",Train Loss: 0.4917, Train Acc: 0.7659, Val Loss: 0.4833, Val Acc: 0.7660\n",
      "\n"
     ]
    },
    {
     "name": "stdout",
     "output_type": "stream",
     "text": [
      "Epoch 9/10\n",
      ",Train Loss: 0.4901, Train Acc: 0.7625, Val Loss: 0.4775, Val Acc: 0.7711\n",
      "\n"
     ]
    },
    {
     "name": "stdout",
     "output_type": "stream",
     "text": [
      "Epoch 10/10\n",
      ",Train Loss: 0.4913, Train Acc: 0.7669, Val Loss: 0.4651, Val Acc: 0.7794\n",
      "\n",
      "Saved new best model with accuracy: 0.7794\n",
      "Training with Learning Rate: 0.0001 \n",
      "\n",
      "\n"
     ]
    },
    {
     "name": "stdout",
     "output_type": "stream",
     "text": [
      "Loaded previous best model with accuracy: 0.7793803418803419\n"
     ]
    },
    {
     "name": "stdout",
     "output_type": "stream",
     "text": [
      "Epoch 1/10\n",
      ",Train Loss: 0.6017, Train Acc: 0.6816, Val Loss: 0.5585, Val Acc: 0.7249\n",
      "\n"
     ]
    },
    {
     "name": "stdout",
     "output_type": "stream",
     "text": [
      "Epoch 2/10\n",
      ",Train Loss: 0.5659, Train Acc: 0.7129, Val Loss: 0.5406, Val Acc: 0.7353\n",
      "\n"
     ]
    },
    {
     "name": "stdout",
     "output_type": "stream",
     "text": [
      "Epoch 3/10\n",
      ",Train Loss: 0.5497, Train Acc: 0.7259, Val Loss: 0.5270, Val Acc: 0.7399\n",
      "\n"
     ]
    },
    {
     "name": "stdout",
     "output_type": "stream",
     "text": [
      "Epoch 4/10\n",
      ",Train Loss: 0.5408, Train Acc: 0.7303, Val Loss: 0.5262, Val Acc: 0.7457\n",
      "\n"
     ]
    },
    {
     "name": "stdout",
     "output_type": "stream",
     "text": [
      "Epoch 5/10\n",
      ",Train Loss: 0.5342, Train Acc: 0.7349, Val Loss: 0.5149, Val Acc: 0.7513\n",
      "\n"
     ]
    },
    {
     "name": "stdout",
     "output_type": "stream",
     "text": [
      "Epoch 6/10\n",
      ",Train Loss: 0.5272, Train Acc: 0.7439, Val Loss: 0.5153, Val Acc: 0.7484\n",
      "\n"
     ]
    },
    {
     "name": "stdout",
     "output_type": "stream",
     "text": [
      "Epoch 7/10\n",
      ",Train Loss: 0.5237, Train Acc: 0.7456, Val Loss: 0.5104, Val Acc: 0.7532\n",
      "\n"
     ]
    },
    {
     "name": "stdout",
     "output_type": "stream",
     "text": [
      "Epoch 8/10\n",
      ",Train Loss: 0.5181, Train Acc: 0.7463, Val Loss: 0.5060, Val Acc: 0.7495\n",
      "\n"
     ]
    },
    {
     "name": "stdout",
     "output_type": "stream",
     "text": [
      "Epoch 9/10\n",
      ",Train Loss: 0.5168, Train Acc: 0.7477, Val Loss: 0.5019, Val Acc: 0.7585\n",
      "\n"
     ]
    },
    {
     "name": "stdout",
     "output_type": "stream",
     "text": [
      "Epoch 10/10\n",
      ",Train Loss: 0.5106, Train Acc: 0.7519, Val Loss: 0.4985, Val Acc: 0.7644\n",
      "\n",
      "Training with Learning Rate: 1e-05 \n",
      "\n",
      "\n"
     ]
    },
    {
     "name": "stdout",
     "output_type": "stream",
     "text": [
      "Loaded previous best model with accuracy: 0.7793803418803419\n"
     ]
    },
    {
     "name": "stdout",
     "output_type": "stream",
     "text": [
      "Epoch 1/10\n",
      ",Train Loss: 0.6656, Train Acc: 0.6111, Val Loss: 0.6370, Val Acc: 0.6749\n",
      "\n"
     ]
    },
    {
     "name": "stdout",
     "output_type": "stream",
     "text": [
      "Epoch 2/10\n",
      ",Train Loss: 0.6281, Train Acc: 0.6757, Val Loss: 0.6086, Val Acc: 0.7006\n",
      "\n"
     ]
    },
    {
     "name": "stdout",
     "output_type": "stream",
     "text": [
      "Epoch 3/10\n",
      ",Train Loss: 0.6103, Train Acc: 0.6819, Val Loss: 0.5901, Val Acc: 0.7107\n",
      "\n"
     ]
    },
    {
     "name": "stdout",
     "output_type": "stream",
     "text": [
      "Epoch 4/10\n",
      ",Train Loss: 0.6003, Train Acc: 0.6872, Val Loss: 0.5807, Val Acc: 0.7113\n",
      "\n"
     ]
    },
    {
     "name": "stdout",
     "output_type": "stream",
     "text": [
      "Epoch 5/10\n",
      ",Train Loss: 0.5926, Train Acc: 0.6930, Val Loss: 0.5705, Val Acc: 0.7212\n",
      "\n"
     ]
    },
    {
     "name": "stdout",
     "output_type": "stream",
     "text": [
      "Epoch 6/10\n",
      ",Train Loss: 0.5887, Train Acc: 0.6967, Val Loss: 0.5722, Val Acc: 0.7142\n",
      "\n"
     ]
    },
    {
     "name": "stdout",
     "output_type": "stream",
     "text": [
      "Epoch 7/10\n",
      ",Train Loss: 0.5815, Train Acc: 0.7031, Val Loss: 0.5617, Val Acc: 0.7260\n",
      "\n"
     ]
    },
    {
     "name": "stdout",
     "output_type": "stream",
     "text": [
      "Epoch 8/10\n",
      ",Train Loss: 0.5771, Train Acc: 0.7065, Val Loss: 0.5566, Val Acc: 0.7241\n",
      "\n"
     ]
    },
    {
     "name": "stdout",
     "output_type": "stream",
     "text": [
      "Epoch 9/10\n",
      ",Train Loss: 0.5738, Train Acc: 0.7095, Val Loss: 0.5498, Val Acc: 0.7284\n",
      "\n"
     ]
    },
    {
     "name": "stdout",
     "output_type": "stream",
     "text": [
      "Epoch 10/10\n",
      ",Train Loss: 0.5702, Train Acc: 0.7122, Val Loss: 0.5547, Val Acc: 0.7310\n",
      "\n",
      "Training with Learning Rate: 1e-06 \n",
      "\n",
      "\n"
     ]
    },
    {
     "name": "stdout",
     "output_type": "stream",
     "text": [
      "Loaded previous best model with accuracy: 0.7793803418803419\n"
     ]
    },
    {
     "name": "stdout",
     "output_type": "stream",
     "text": [
      "Epoch 1/10\n",
      ",Train Loss: 0.6884, Train Acc: 0.5408, Val Loss: 0.6820, Val Acc: 0.5759\n",
      "\n"
     ]
    },
    {
     "name": "stdout",
     "output_type": "stream",
     "text": [
      "Epoch 2/10\n",
      ",Train Loss: 0.6798, Train Acc: 0.5829, Val Loss: 0.6724, Val Acc: 0.6215\n",
      "\n"
     ]
    },
    {
     "name": "stdout",
     "output_type": "stream",
     "text": [
      "Epoch 3/10\n",
      ",Train Loss: 0.6727, Train Acc: 0.6086, Val Loss: 0.6625, Val Acc: 0.6485\n",
      "\n"
     ]
    },
    {
     "name": "stdout",
     "output_type": "stream",
     "text": [
      "Epoch 4/10\n",
      ",Train Loss: 0.6669, Train Acc: 0.6230, Val Loss: 0.6565, Val Acc: 0.6600\n",
      "\n"
     ]
    },
    {
     "name": "stdout",
     "output_type": "stream",
     "text": [
      "Epoch 5/10\n",
      ",Train Loss: 0.6610, Train Acc: 0.6351, Val Loss: 0.6493, Val Acc: 0.6701\n",
      "\n"
     ]
    },
    {
     "name": "stdout",
     "output_type": "stream",
     "text": [
      "Epoch 6/10\n",
      ",Train Loss: 0.6562, Train Acc: 0.6422, Val Loss: 0.6444, Val Acc: 0.6715\n",
      "\n"
     ]
    },
    {
     "name": "stdout",
     "output_type": "stream",
     "text": [
      "Epoch 7/10\n",
      ",Train Loss: 0.6519, Train Acc: 0.6437, Val Loss: 0.6416, Val Acc: 0.6707\n",
      "\n"
     ]
    },
    {
     "name": "stdout",
     "output_type": "stream",
     "text": [
      "Epoch 8/10\n",
      ",Train Loss: 0.6480, Train Acc: 0.6522, Val Loss: 0.6354, Val Acc: 0.6870\n",
      "\n"
     ]
    },
    {
     "name": "stdout",
     "output_type": "stream",
     "text": [
      "Epoch 9/10\n",
      ",Train Loss: 0.6443, Train Acc: 0.6534, Val Loss: 0.6291, Val Acc: 0.6854\n",
      "\n"
     ]
    },
    {
     "name": "stdout",
     "output_type": "stream",
     "text": [
      "Epoch 10/10\n",
      ",Train Loss: 0.6405, Train Acc: 0.6579, Val Loss: 0.6294, Val Acc: 0.6838\n",
      "\n"
     ]
    }
   ],
   "source": [
    "#ResNET\n",
    "learning_rates = [1e-3,1e-4, 1e-5, 1e-6]\n",
    "print(\"Training RES Frozen w/OLDSNR\\n\")\n",
    "\n",
    "for learning_rate in learning_rates:\n",
    "    print(f\"Training with Learning Rate: {learning_rate} \\n\\n\")\n",
    "    device = torch.device(\"cuda\" if torch.cuda.is_available() else \"cpu\")\n",
    "    model = ResNetClassifier(kernels).to(device)\n",
    "    optimizer = AdamW(model.parameters(), lr=learning_rate)\n",
    "    best_model_path = '/home/kosta/code/School/SentryAI/pth/best_model_oldSMR_RESNET_frozen.pth'\n",
    "    \n",
    "    #freeze resnet layers\n",
    "    for param in model.resnet.parameters():\n",
    "        param.requires_grad = False\n",
    "    #unfreeze the classifier layer\n",
    "    for param in model.classifier.parameters():\n",
    "        param.requires_grad = True\n",
    "    ut.train_and_validate(model, train_loader, val_loader, optimizer, device, num_epochs=10, best_model_path= best_model_path)\n",
    "    \n",
    "    "
   ]
  },
  {
   "cell_type": "markdown",
   "metadata": {},
   "source": [
    "# unfreeze the pretrained models old reconstruct and destroy"
   ]
  },
  {
   "cell_type": "code",
   "execution_count": 7,
   "metadata": {
    "execution": {
     "iopub.execute_input": "2024-04-29T19:05:49.419835Z",
     "iopub.status.busy": "2024-04-29T19:05:49.419539Z",
     "iopub.status.idle": "2024-04-29T20:12:47.334485Z",
     "shell.execute_reply": "2024-04-29T20:12:47.333941Z"
    }
   },
   "outputs": [
    {
     "name": "stdout",
     "output_type": "stream",
     "text": [
      "Training RES UNFrozen w/OLDSNR\n",
      "\n",
      "Training with Learning Rate: 0.001 \n",
      "\n",
      "\n"
     ]
    },
    {
     "name": "stdout",
     "output_type": "stream",
     "text": [
      "No saved model found. Starting fresh!\n"
     ]
    },
    {
     "name": "stdout",
     "output_type": "stream",
     "text": [
      "Epoch 1/10\n",
      ",Train Loss: 0.5019, Train Acc: 0.7562, Val Loss: 0.3991, Val Acc: 0.8315\n",
      "\n",
      "Saved new best model with accuracy: 0.8315\n"
     ]
    },
    {
     "name": "stdout",
     "output_type": "stream",
     "text": [
      "Epoch 2/10\n",
      ",Train Loss: 0.3308, Train Acc: 0.8594, Val Loss: 0.6497, Val Acc: 0.7006\n",
      "\n"
     ]
    },
    {
     "name": "stdout",
     "output_type": "stream",
     "text": [
      "Epoch 3/10\n",
      ",Train Loss: 0.2613, Train Acc: 0.8902, Val Loss: 0.2585, Val Acc: 0.8969\n",
      "\n",
      "Saved new best model with accuracy: 0.8969\n"
     ]
    },
    {
     "name": "stdout",
     "output_type": "stream",
     "text": [
      "Epoch 4/10\n",
      ",Train Loss: 0.2185, Train Acc: 0.9119, Val Loss: 0.3772, Val Acc: 0.8606\n",
      "\n"
     ]
    },
    {
     "name": "stdout",
     "output_type": "stream",
     "text": [
      "Epoch 5/10\n",
      ",Train Loss: 0.1901, Train Acc: 0.9240, Val Loss: 0.2485, Val Acc: 0.8969\n",
      "\n"
     ]
    },
    {
     "name": "stdout",
     "output_type": "stream",
     "text": [
      "Epoch 6/10\n",
      ",Train Loss: 0.1824, Train Acc: 0.9293, Val Loss: 0.1837, Val Acc: 0.9303\n",
      "\n",
      "Saved new best model with accuracy: 0.9303\n"
     ]
    },
    {
     "name": "stdout",
     "output_type": "stream",
     "text": [
      "Epoch 7/10\n",
      ",Train Loss: 0.1529, Train Acc: 0.9400, Val Loss: 0.1681, Val Acc: 0.9356\n",
      "\n",
      "Saved new best model with accuracy: 0.9356\n"
     ]
    },
    {
     "name": "stdout",
     "output_type": "stream",
     "text": [
      "Epoch 8/10\n",
      ",Train Loss: 0.1484, Train Acc: 0.9418, Val Loss: 0.5842, Val Acc: 0.8149\n",
      "\n"
     ]
    },
    {
     "name": "stdout",
     "output_type": "stream",
     "text": [
      "Epoch 9/10\n",
      ",Train Loss: 0.1367, Train Acc: 0.9461, Val Loss: 0.2882, Val Acc: 0.8892\n",
      "\n"
     ]
    },
    {
     "name": "stdout",
     "output_type": "stream",
     "text": [
      "Epoch 10/10\n",
      ",Train Loss: 0.1201, Train Acc: 0.9546, Val Loss: 0.1194, Val Acc: 0.9583\n",
      "\n",
      "Saved new best model with accuracy: 0.9583\n",
      "Training with Learning Rate: 0.0001 \n",
      "\n",
      "\n"
     ]
    },
    {
     "name": "stdout",
     "output_type": "stream",
     "text": [
      "Loaded previous best model with accuracy: 0.9583333333333334\n"
     ]
    },
    {
     "name": "stdout",
     "output_type": "stream",
     "text": [
      "Epoch 1/10\n",
      ",Train Loss: 0.4180, Train Acc: 0.8068, Val Loss: 0.3667, Val Acc: 0.8427\n",
      "\n"
     ]
    },
    {
     "name": "stdout",
     "output_type": "stream",
     "text": [
      "Epoch 2/10\n",
      ",Train Loss: 0.2768, Train Acc: 0.8841, Val Loss: 0.3034, Val Acc: 0.8707\n",
      "\n"
     ]
    },
    {
     "name": "stdout",
     "output_type": "stream",
     "text": [
      "Epoch 3/10\n",
      ",Train Loss: 0.2253, Train Acc: 0.9072, Val Loss: 0.2267, Val Acc: 0.9068\n",
      "\n"
     ]
    },
    {
     "name": "stdout",
     "output_type": "stream",
     "text": [
      "Epoch 4/10\n",
      ",Train Loss: 0.1896, Train Acc: 0.9251, Val Loss: 0.2136, Val Acc: 0.9185\n",
      "\n"
     ]
    },
    {
     "name": "stdout",
     "output_type": "stream",
     "text": [
      "Epoch 5/10\n",
      ",Train Loss: 0.1604, Train Acc: 0.9361, Val Loss: 0.1965, Val Acc: 0.9268\n",
      "\n"
     ]
    },
    {
     "name": "stdout",
     "output_type": "stream",
     "text": [
      "Epoch 6/10\n",
      ",Train Loss: 0.1416, Train Acc: 0.9443, Val Loss: 0.1825, Val Acc: 0.9271\n",
      "\n"
     ]
    },
    {
     "name": "stdout",
     "output_type": "stream",
     "text": [
      "Epoch 7/10\n",
      ",Train Loss: 0.1279, Train Acc: 0.9501, Val Loss: 0.1689, Val Acc: 0.9356\n",
      "\n"
     ]
    },
    {
     "name": "stdout",
     "output_type": "stream",
     "text": [
      "Epoch 8/10\n",
      ",Train Loss: 0.1135, Train Acc: 0.9551, Val Loss: 0.1925, Val Acc: 0.9282\n",
      "\n"
     ]
    },
    {
     "name": "stdout",
     "output_type": "stream",
     "text": [
      "Epoch 9/10\n",
      ",Train Loss: 0.0976, Train Acc: 0.9637, Val Loss: 0.2157, Val Acc: 0.9223\n",
      "\n"
     ]
    },
    {
     "name": "stdout",
     "output_type": "stream",
     "text": [
      "Epoch 10/10\n",
      ",Train Loss: 0.0847, Train Acc: 0.9676, Val Loss: 0.2117, Val Acc: 0.9247\n",
      "\n",
      "Training with Learning Rate: 1e-05 \n",
      "\n",
      "\n"
     ]
    },
    {
     "name": "stdout",
     "output_type": "stream",
     "text": [
      "Loaded previous best model with accuracy: 0.9583333333333334\n"
     ]
    },
    {
     "name": "stdout",
     "output_type": "stream",
     "text": [
      "Epoch 1/10\n",
      ",Train Loss: 0.5688, Train Acc: 0.7044, Val Loss: 0.4776, Val Acc: 0.7703\n",
      "\n"
     ]
    },
    {
     "name": "stdout",
     "output_type": "stream",
     "text": [
      "Epoch 2/10\n",
      ",Train Loss: 0.4612, Train Acc: 0.7788, Val Loss: 0.4273, Val Acc: 0.8053\n",
      "\n"
     ]
    },
    {
     "name": "stdout",
     "output_type": "stream",
     "text": [
      "Epoch 3/10\n",
      ",Train Loss: 0.4121, Train Acc: 0.8074, Val Loss: 0.3771, Val Acc: 0.8283\n",
      "\n"
     ]
    },
    {
     "name": "stdout",
     "output_type": "stream",
     "text": [
      "Epoch 4/10\n",
      ",Train Loss: 0.3751, Train Acc: 0.8303, Val Loss: 0.3403, Val Acc: 0.8502\n",
      "\n"
     ]
    },
    {
     "name": "stdout",
     "output_type": "stream",
     "text": [
      "Epoch 5/10\n",
      ",Train Loss: 0.3382, Train Acc: 0.8528, Val Loss: 0.3156, Val Acc: 0.8630\n",
      "\n"
     ]
    },
    {
     "name": "stdout",
     "output_type": "stream",
     "text": [
      "Epoch 6/10\n",
      ",Train Loss: 0.3134, Train Acc: 0.8652, Val Loss: 0.3040, Val Acc: 0.8681\n",
      "\n"
     ]
    },
    {
     "name": "stdout",
     "output_type": "stream",
     "text": [
      "Epoch 7/10\n",
      ",Train Loss: 0.2960, Train Acc: 0.8732, Val Loss: 0.2834, Val Acc: 0.8827\n",
      "\n"
     ]
    },
    {
     "name": "stdout",
     "output_type": "stream",
     "text": [
      "Epoch 8/10\n",
      ",Train Loss: 0.2757, Train Acc: 0.8819, Val Loss: 0.2659, Val Acc: 0.8860\n",
      "\n"
     ]
    },
    {
     "name": "stdout",
     "output_type": "stream",
     "text": [
      "Epoch 9/10\n",
      ",Train Loss: 0.2635, Train Acc: 0.8878, Val Loss: 0.2757, Val Acc: 0.8766\n",
      "\n"
     ]
    },
    {
     "name": "stdout",
     "output_type": "stream",
     "text": [
      "Epoch 10/10\n",
      ",Train Loss: 0.2512, Train Acc: 0.8923, Val Loss: 0.2542, Val Acc: 0.8961\n",
      "\n",
      "Training with Learning Rate: 1e-06 \n",
      "\n",
      "\n"
     ]
    },
    {
     "name": "stdout",
     "output_type": "stream",
     "text": [
      "Loaded previous best model with accuracy: 0.9583333333333334\n"
     ]
    },
    {
     "name": "stdout",
     "output_type": "stream",
     "text": [
      "Epoch 1/10\n",
      ",Train Loss: 0.6685, Train Acc: 0.6076, Val Loss: 0.6364, Val Acc: 0.6755\n",
      "\n"
     ]
    },
    {
     "name": "stdout",
     "output_type": "stream",
     "text": [
      "Epoch 2/10\n",
      ",Train Loss: 0.6246, Train Acc: 0.6693, Val Loss: 0.5942, Val Acc: 0.7062\n",
      "\n"
     ]
    },
    {
     "name": "stdout",
     "output_type": "stream",
     "text": [
      "Epoch 3/10\n",
      ",Train Loss: 0.5931, Train Acc: 0.6922, Val Loss: 0.5638, Val Acc: 0.7244\n",
      "\n"
     ]
    },
    {
     "name": "stdout",
     "output_type": "stream",
     "text": [
      "Epoch 4/10\n",
      ",Train Loss: 0.5687, Train Acc: 0.7096, Val Loss: 0.5406, Val Acc: 0.7337\n",
      "\n"
     ]
    },
    {
     "name": "stdout",
     "output_type": "stream",
     "text": [
      "Epoch 5/10\n",
      ",Train Loss: 0.5516, Train Acc: 0.7241, Val Loss: 0.5207, Val Acc: 0.7473\n",
      "\n"
     ]
    },
    {
     "name": "stdout",
     "output_type": "stream",
     "text": [
      "Epoch 6/10\n",
      ",Train Loss: 0.5339, Train Acc: 0.7334, Val Loss: 0.5063, Val Acc: 0.7535\n",
      "\n"
     ]
    },
    {
     "name": "stdout",
     "output_type": "stream",
     "text": [
      "Epoch 7/10\n",
      ",Train Loss: 0.5233, Train Acc: 0.7372, Val Loss: 0.4943, Val Acc: 0.7529\n",
      "\n"
     ]
    },
    {
     "name": "stdout",
     "output_type": "stream",
     "text": [
      "Epoch 8/10\n",
      ",Train Loss: 0.5102, Train Acc: 0.7457, Val Loss: 0.4910, Val Acc: 0.7620\n",
      "\n"
     ]
    },
    {
     "name": "stdout",
     "output_type": "stream",
     "text": [
      "Epoch 9/10\n",
      ",Train Loss: 0.5020, Train Acc: 0.7548, Val Loss: 0.4865, Val Acc: 0.7585\n",
      "\n"
     ]
    },
    {
     "name": "stdout",
     "output_type": "stream",
     "text": [
      "Epoch 10/10\n",
      ",Train Loss: 0.4914, Train Acc: 0.7608, Val Loss: 0.4727, Val Acc: 0.7722\n",
      "\n"
     ]
    }
   ],
   "source": [
    "#ResNET\n",
    "print(\"Training RES UNFrozen w/OLDSNR\\n\")\n",
    "\n",
    "learning_rates = [1e-3,1e-4, 1e-5, 1e-6]\n",
    "\n",
    "for learning_rate in learning_rates:\n",
    "    print(f\"Training with Learning Rate: {learning_rate} \\n\\n\")\n",
    "    device = torch.device(\"cuda\" if torch.cuda.is_available() else \"cpu\")\n",
    "\n",
    "    model = ResNetClassifier(kernels).to(device)\n",
    "    optimizer = AdamW(model.parameters(), lr=learning_rate)\n",
    "    best_model_path = '/home/kosta/code/School/SentryAI/pth/best_model_oldSMR_RESNET_unfrozen.pth'\n",
    "\n",
    "\n",
    "    ut.train_and_validate(model, train_loader, val_loader, optimizer, device, num_epochs=10, best_model_path= best_model_path)\n",
    "\n"
   ]
  },
  {
   "cell_type": "code",
   "execution_count": 8,
   "metadata": {
    "execution": {
     "iopub.execute_input": "2024-04-29T20:12:47.336564Z",
     "iopub.status.busy": "2024-04-29T20:12:47.336275Z",
     "iopub.status.idle": "2024-04-29T21:54:21.263135Z",
     "shell.execute_reply": "2024-04-29T21:54:21.261840Z"
    }
   },
   "outputs": [
    {
     "name": "stdout",
     "output_type": "stream",
     "text": [
      "Training SWIN UNFrozen w/OLDSNR\n",
      "\n",
      "Training with Learning Rate: 0.001 \n",
      "\n",
      "\n"
     ]
    },
    {
     "name": "stderr",
     "output_type": "stream",
     "text": [
      "You are using a model of type swinv2 to instantiate a model of type swin. This is not supported for all configurations of models and can yield errors.\n"
     ]
    },
    {
     "name": "stdout",
     "output_type": "stream",
     "text": [
      "No saved model found. Starting fresh!\n"
     ]
    },
    {
     "name": "stdout",
     "output_type": "stream",
     "text": [
      "Epoch 1/10\n",
      ",Train Loss: 0.6845, Train Acc: 0.5533, Val Loss: 0.6459, Val Acc: 0.6151\n",
      "\n",
      "Saved new best model with accuracy: 0.6151\n"
     ]
    },
    {
     "name": "stdout",
     "output_type": "stream",
     "text": [
      "Epoch 2/10\n",
      ",Train Loss: 0.6765, Train Acc: 0.5683, Val Loss: 0.6918, Val Acc: 0.5772\n",
      "\n"
     ]
    },
    {
     "name": "stdout",
     "output_type": "stream",
     "text": [
      "Epoch 3/10\n",
      ",Train Loss: 0.6923, Train Acc: 0.5164, Val Loss: 0.6958, Val Acc: 0.5061\n",
      "\n"
     ]
    },
    {
     "name": "stdout",
     "output_type": "stream",
     "text": [
      "Epoch 4/10\n",
      ",Train Loss: 0.6943, Train Acc: 0.5037, Val Loss: 0.6940, Val Acc: 0.4939\n",
      "\n"
     ]
    },
    {
     "name": "stdout",
     "output_type": "stream",
     "text": [
      "Epoch 5/10\n",
      ",Train Loss: 0.6938, Train Acc: 0.4990, Val Loss: 0.6931, Val Acc: 0.5061\n",
      "\n"
     ]
    },
    {
     "name": "stdout",
     "output_type": "stream",
     "text": [
      "Epoch 6/10\n",
      ",Train Loss: 0.6941, Train Acc: 0.4986, Val Loss: 0.6931, Val Acc: 0.5061\n",
      "\n"
     ]
    },
    {
     "name": "stdout",
     "output_type": "stream",
     "text": [
      "Epoch 7/10\n",
      ",Train Loss: 0.6936, Train Acc: 0.5016, Val Loss: 0.6932, Val Acc: 0.5061\n",
      "\n"
     ]
    },
    {
     "name": "stdout",
     "output_type": "stream",
     "text": [
      "Epoch 8/10\n",
      ",Train Loss: 0.6940, Train Acc: 0.5017, Val Loss: 0.6931, Val Acc: 0.5061\n",
      "\n"
     ]
    },
    {
     "name": "stdout",
     "output_type": "stream",
     "text": [
      "Epoch 9/10\n",
      ",Train Loss: 0.6937, Train Acc: 0.4993, Val Loss: 0.6935, Val Acc: 0.5061\n",
      "\n"
     ]
    },
    {
     "name": "stdout",
     "output_type": "stream",
     "text": [
      "Epoch 10/10\n",
      ",Train Loss: 0.6937, Train Acc: 0.4969, Val Loss: 0.6931, Val Acc: 0.5061\n",
      "\n",
      "Training with Learning Rate: 0.0001 \n",
      "\n",
      "\n"
     ]
    },
    {
     "name": "stderr",
     "output_type": "stream",
     "text": [
      "You are using a model of type swinv2 to instantiate a model of type swin. This is not supported for all configurations of models and can yield errors.\n"
     ]
    },
    {
     "name": "stdout",
     "output_type": "stream",
     "text": [
      "Loaded previous best model with accuracy: 0.6151175213675214\n"
     ]
    },
    {
     "name": "stdout",
     "output_type": "stream",
     "text": [
      "Epoch 1/10\n",
      ",Train Loss: 0.5055, Train Acc: 0.7423, Val Loss: 0.3651, Val Acc: 0.8376\n",
      "\n",
      "Saved new best model with accuracy: 0.8376\n"
     ]
    },
    {
     "name": "stdout",
     "output_type": "stream",
     "text": [
      "Epoch 2/10\n",
      ",Train Loss: 0.3411, Train Acc: 0.8503, Val Loss: 0.2961, Val Acc: 0.8699\n",
      "\n",
      "Saved new best model with accuracy: 0.8699\n"
     ]
    },
    {
     "name": "stdout",
     "output_type": "stream",
     "text": [
      "Epoch 3/10\n",
      ",Train Loss: 0.2688, Train Acc: 0.8881, Val Loss: 0.2004, Val Acc: 0.9220\n",
      "\n",
      "Saved new best model with accuracy: 0.9220\n"
     ]
    },
    {
     "name": "stdout",
     "output_type": "stream",
     "text": [
      "Epoch 4/10\n",
      ",Train Loss: 0.2165, Train Acc: 0.9121, Val Loss: 0.1712, Val Acc: 0.9335\n",
      "\n",
      "Saved new best model with accuracy: 0.9335\n"
     ]
    },
    {
     "name": "stdout",
     "output_type": "stream",
     "text": [
      "Epoch 5/10\n",
      ",Train Loss: 0.1937, Train Acc: 0.9236, Val Loss: 0.1974, Val Acc: 0.9247\n",
      "\n"
     ]
    },
    {
     "name": "stdout",
     "output_type": "stream",
     "text": [
      "Epoch 6/10\n",
      ",Train Loss: 0.1621, Train Acc: 0.9357, Val Loss: 0.2059, Val Acc: 0.9244\n",
      "\n"
     ]
    },
    {
     "name": "stdout",
     "output_type": "stream",
     "text": [
      "Epoch 7/10\n",
      ",Train Loss: 0.1430, Train Acc: 0.9446, Val Loss: 0.1592, Val Acc: 0.9378\n",
      "\n",
      "Saved new best model with accuracy: 0.9378\n"
     ]
    },
    {
     "name": "stdout",
     "output_type": "stream",
     "text": [
      "Epoch 8/10\n",
      ",Train Loss: 0.1321, Train Acc: 0.9498, Val Loss: 0.1742, Val Acc: 0.9394\n",
      "\n",
      "Saved new best model with accuracy: 0.9394\n"
     ]
    },
    {
     "name": "stdout",
     "output_type": "stream",
     "text": [
      "Epoch 9/10\n",
      ",Train Loss: 0.1187, Train Acc: 0.9558, Val Loss: 0.1860, Val Acc: 0.9346\n",
      "\n"
     ]
    },
    {
     "name": "stdout",
     "output_type": "stream",
     "text": [
      "Epoch 10/10\n",
      ",Train Loss: 0.1107, Train Acc: 0.9586, Val Loss: 0.1332, Val Acc: 0.9546\n",
      "\n",
      "Saved new best model with accuracy: 0.9546\n",
      "Training with Learning Rate: 1e-05 \n",
      "\n",
      "\n"
     ]
    },
    {
     "name": "stderr",
     "output_type": "stream",
     "text": [
      "You are using a model of type swinv2 to instantiate a model of type swin. This is not supported for all configurations of models and can yield errors.\n"
     ]
    },
    {
     "name": "stdout",
     "output_type": "stream",
     "text": [
      "Loaded previous best model with accuracy: 0.9545940170940171\n"
     ]
    },
    {
     "name": "stdout",
     "output_type": "stream",
     "text": [
      "Epoch 1/10\n",
      ",Train Loss: 0.5525, Train Acc: 0.7101, Val Loss: 0.4555, Val Acc: 0.7788\n",
      "\n"
     ]
    },
    {
     "name": "stdout",
     "output_type": "stream",
     "text": [
      "Epoch 2/10\n",
      ",Train Loss: 0.4350, Train Acc: 0.7923, Val Loss: 0.3783, Val Acc: 0.8224\n",
      "\n"
     ]
    },
    {
     "name": "stdout",
     "output_type": "stream",
     "text": [
      "Epoch 3/10\n",
      ",Train Loss: 0.3704, Train Acc: 0.8304, Val Loss: 0.3837, Val Acc: 0.8381\n",
      "\n"
     ]
    },
    {
     "name": "stdout",
     "output_type": "stream",
     "text": [
      "Epoch 4/10\n",
      ",Train Loss: 0.3291, Train Acc: 0.8517, Val Loss: 0.3083, Val Acc: 0.8758\n",
      "\n"
     ]
    },
    {
     "name": "stdout",
     "output_type": "stream",
     "text": [
      "Epoch 5/10\n",
      ",Train Loss: 0.2896, Train Acc: 0.8737, Val Loss: 0.2495, Val Acc: 0.8961\n",
      "\n"
     ]
    },
    {
     "name": "stdout",
     "output_type": "stream",
     "text": [
      "Epoch 6/10\n",
      ",Train Loss: 0.2567, Train Acc: 0.8897, Val Loss: 0.2443, Val Acc: 0.8977\n",
      "\n"
     ]
    },
    {
     "name": "stdout",
     "output_type": "stream",
     "text": [
      "Epoch 7/10\n",
      ",Train Loss: 0.2349, Train Acc: 0.9017, Val Loss: 0.2088, Val Acc: 0.9143\n",
      "\n"
     ]
    },
    {
     "name": "stdout",
     "output_type": "stream",
     "text": [
      "Epoch 8/10\n",
      ",Train Loss: 0.2197, Train Acc: 0.9093, Val Loss: 0.1898, Val Acc: 0.9212\n",
      "\n"
     ]
    },
    {
     "name": "stdout",
     "output_type": "stream",
     "text": [
      "Epoch 9/10\n",
      ",Train Loss: 0.2013, Train Acc: 0.9169, Val Loss: 0.2401, Val Acc: 0.8950\n",
      "\n"
     ]
    },
    {
     "name": "stdout",
     "output_type": "stream",
     "text": [
      "Epoch 10/10\n",
      ",Train Loss: 0.1853, Train Acc: 0.9232, Val Loss: 0.1818, Val Acc: 0.9271\n",
      "\n",
      "Training with Learning Rate: 1e-06 \n",
      "\n",
      "\n"
     ]
    },
    {
     "name": "stderr",
     "output_type": "stream",
     "text": [
      "You are using a model of type swinv2 to instantiate a model of type swin. This is not supported for all configurations of models and can yield errors.\n"
     ]
    },
    {
     "name": "stdout",
     "output_type": "stream",
     "text": [
      "Loaded previous best model with accuracy: 0.9545940170940171\n"
     ]
    },
    {
     "name": "stdout",
     "output_type": "stream",
     "text": [
      "Epoch 1/10\n",
      ",Train Loss: 0.6185, Train Acc: 0.6489, Val Loss: 0.5255, Val Acc: 0.7316\n",
      "\n"
     ]
    },
    {
     "name": "stdout",
     "output_type": "stream",
     "text": [
      "Epoch 2/10\n",
      ",Train Loss: 0.5455, Train Acc: 0.7182, Val Loss: 0.4794, Val Acc: 0.7599\n",
      "\n"
     ]
    },
    {
     "name": "stdout",
     "output_type": "stream",
     "text": [
      "Epoch 3/10\n",
      ",Train Loss: 0.5108, Train Acc: 0.7423, Val Loss: 0.4533, Val Acc: 0.7738\n",
      "\n"
     ]
    },
    {
     "name": "stdout",
     "output_type": "stream",
     "text": [
      "Epoch 4/10\n",
      ",Train Loss: 0.4798, Train Acc: 0.7639, Val Loss: 0.4261, Val Acc: 0.7922\n",
      "\n"
     ]
    },
    {
     "name": "stdout",
     "output_type": "stream",
     "text": [
      "Epoch 5/10\n",
      ",Train Loss: 0.4545, Train Acc: 0.7795, Val Loss: 0.4133, Val Acc: 0.8048\n",
      "\n"
     ]
    },
    {
     "name": "stdout",
     "output_type": "stream",
     "text": [
      "Epoch 6/10\n",
      ",Train Loss: 0.4372, Train Acc: 0.7902, Val Loss: 0.3886, Val Acc: 0.8138\n",
      "\n"
     ]
    },
    {
     "name": "stdout",
     "output_type": "stream",
     "text": [
      "Epoch 7/10\n",
      ",Train Loss: 0.4193, Train Acc: 0.8022, Val Loss: 0.3709, Val Acc: 0.8272\n",
      "\n"
     ]
    },
    {
     "name": "stdout",
     "output_type": "stream",
     "text": [
      "Epoch 8/10\n",
      ",Train Loss: 0.4050, Train Acc: 0.8099, Val Loss: 0.3662, Val Acc: 0.8253\n",
      "\n"
     ]
    },
    {
     "name": "stdout",
     "output_type": "stream",
     "text": [
      "Epoch 9/10\n",
      ",Train Loss: 0.3939, Train Acc: 0.8175, Val Loss: 0.3446, Val Acc: 0.8379\n",
      "\n"
     ]
    },
    {
     "name": "stdout",
     "output_type": "stream",
     "text": [
      "Epoch 10/10\n",
      ",Train Loss: 0.3821, Train Acc: 0.8244, Val Loss: 0.3413, Val Acc: 0.8456\n",
      "\n"
     ]
    }
   ],
   "source": [
    "#Swin Transformer\n",
    "print(\"Training SWIN UNFrozen w/OLDSNR\\n\")\n",
    "\n",
    "learning_rates = [1e-3,1e-4, 1e-5, 1e-6]\n",
    "\n",
    "for learning_rate in learning_rates:\n",
    "    print(f\"Training with Learning Rate: {learning_rate} \\n\\n\")\n",
    "    device = torch.device(\"cuda\" if torch.cuda.is_available() else \"cpu\")\n",
    "    kernels =  ut.apply_high_pass_filter()\n",
    "    model = SwinClassification(kernels).to(device)\n",
    "    optimizer = AdamW(model.parameters(), lr=learning_rate)\n",
    "    best_model_path = '/home/kosta/code/School/SentryAI/pth/best_model_oldSMR_SWIN_Unfrozen.pth'\n",
    "    \n",
    "    \n",
    "    \n",
    "    ut.train_and_validate(model, train_loader, val_loader, optimizer, device, num_epochs=10, best_model_path= best_model_path)\n",
    "\n"
   ]
  },
  {
   "cell_type": "code",
   "execution_count": 9,
   "metadata": {
    "execution": {
     "iopub.execute_input": "2024-04-29T21:54:21.273867Z",
     "iopub.status.busy": "2024-04-29T21:54:21.273626Z",
     "iopub.status.idle": "2024-04-29T22:59:08.381755Z",
     "shell.execute_reply": "2024-04-29T22:59:08.380617Z"
    }
   },
   "outputs": [
    {
     "name": "stdout",
     "output_type": "stream",
     "text": [
      "Training BASE w/OLDSNR\n",
      "\n",
      "Training with Learning Rate: 0.001 \n",
      "\n",
      "\n",
      "No saved model found. Starting fresh!\n"
     ]
    },
    {
     "name": "stdout",
     "output_type": "stream",
     "text": [
      "Epoch 1/10\n",
      ",Train Loss: 0.6141, Train Acc: 0.6610, Val Loss: 0.6182, Val Acc: 0.6677\n",
      "\n",
      "Saved new best model with accuracy: 0.6677\n"
     ]
    },
    {
     "name": "stdout",
     "output_type": "stream",
     "text": [
      "Epoch 2/10\n",
      ",Train Loss: 0.5522, Train Acc: 0.7239, Val Loss: 0.5978, Val Acc: 0.6811\n",
      "\n",
      "Saved new best model with accuracy: 0.6811\n"
     ]
    },
    {
     "name": "stdout",
     "output_type": "stream",
     "text": [
      "Epoch 3/10\n",
      ",Train Loss: 0.5063, Train Acc: 0.7587, Val Loss: 0.4835, Val Acc: 0.7767\n",
      "\n",
      "Saved new best model with accuracy: 0.7767\n"
     ]
    },
    {
     "name": "stdout",
     "output_type": "stream",
     "text": [
      "Epoch 4/10\n",
      ",Train Loss: 0.4531, Train Acc: 0.7959, Val Loss: 0.4297, Val Acc: 0.7994\n",
      "\n",
      "Saved new best model with accuracy: 0.7994\n"
     ]
    },
    {
     "name": "stdout",
     "output_type": "stream",
     "text": [
      "Epoch 5/10\n",
      ",Train Loss: 0.4123, Train Acc: 0.8167, Val Loss: 0.4094, Val Acc: 0.8194\n",
      "\n",
      "Saved new best model with accuracy: 0.8194\n"
     ]
    },
    {
     "name": "stdout",
     "output_type": "stream",
     "text": [
      "Epoch 6/10\n",
      ",Train Loss: 0.3809, Train Acc: 0.8327, Val Loss: 0.6299, Val Acc: 0.7182\n",
      "\n"
     ]
    },
    {
     "name": "stdout",
     "output_type": "stream",
     "text": [
      "Epoch 7/10\n",
      ",Train Loss: 0.3459, Train Acc: 0.8525, Val Loss: 0.3528, Val Acc: 0.8448\n",
      "\n",
      "Saved new best model with accuracy: 0.8448\n"
     ]
    },
    {
     "name": "stdout",
     "output_type": "stream",
     "text": [
      "Epoch 8/10\n",
      ",Train Loss: 0.3229, Train Acc: 0.8624, Val Loss: 0.9466, Val Acc: 0.6955\n",
      "\n"
     ]
    },
    {
     "name": "stdout",
     "output_type": "stream",
     "text": [
      "Epoch 9/10\n",
      ",Train Loss: 0.2978, Train Acc: 0.8756, Val Loss: 0.3311, Val Acc: 0.8504\n",
      "\n",
      "Saved new best model with accuracy: 0.8504\n"
     ]
    },
    {
     "name": "stdout",
     "output_type": "stream",
     "text": [
      "Epoch 10/10\n",
      ",Train Loss: 0.2764, Train Acc: 0.8855, Val Loss: 0.5222, Val Acc: 0.7957\n",
      "\n",
      "Training with Learning Rate: 0.0001 \n",
      "\n",
      "\n",
      "Loaded previous best model with accuracy: 0.8504273504273504\n"
     ]
    },
    {
     "name": "stdout",
     "output_type": "stream",
     "text": [
      "Epoch 1/10\n",
      ",Train Loss: 0.5880, Train Acc: 0.6853, Val Loss: 0.6364, Val Acc: 0.6798\n",
      "\n"
     ]
    },
    {
     "name": "stdout",
     "output_type": "stream",
     "text": [
      "Epoch 2/10\n",
      ",Train Loss: 0.5116, Train Acc: 0.7521, Val Loss: 0.4790, Val Acc: 0.7767\n",
      "\n"
     ]
    },
    {
     "name": "stdout",
     "output_type": "stream",
     "text": [
      "Epoch 3/10\n",
      ",Train Loss: 0.4494, Train Acc: 0.7948, Val Loss: 0.5229, Val Acc: 0.7316\n",
      "\n"
     ]
    },
    {
     "name": "stdout",
     "output_type": "stream",
     "text": [
      "Epoch 4/10\n",
      ",Train Loss: 0.3932, Train Acc: 0.8319, Val Loss: 0.4248, Val Acc: 0.8336\n",
      "\n"
     ]
    },
    {
     "name": "stdout",
     "output_type": "stream",
     "text": [
      "Epoch 5/10\n",
      ",Train Loss: 0.3444, Train Acc: 0.8558, Val Loss: 1.2461, Val Acc: 0.5267\n",
      "\n"
     ]
    },
    {
     "name": "stdout",
     "output_type": "stream",
     "text": [
      "Epoch 6/10\n",
      ",Train Loss: 0.3041, Train Acc: 0.8749, Val Loss: 0.2785, Val Acc: 0.9012\n",
      "\n",
      "Saved new best model with accuracy: 0.9012\n"
     ]
    },
    {
     "name": "stdout",
     "output_type": "stream",
     "text": [
      "Epoch 7/10\n",
      ",Train Loss: 0.2719, Train Acc: 0.8921, Val Loss: 0.2799, Val Acc: 0.8916\n",
      "\n"
     ]
    },
    {
     "name": "stdout",
     "output_type": "stream",
     "text": [
      "Epoch 8/10\n",
      ",Train Loss: 0.2508, Train Acc: 0.8985, Val Loss: 0.3818, Val Acc: 0.8558\n",
      "\n"
     ]
    },
    {
     "name": "stdout",
     "output_type": "stream",
     "text": [
      "Epoch 9/10\n",
      ",Train Loss: 0.2323, Train Acc: 0.9063, Val Loss: 0.4904, Val Acc: 0.7842\n",
      "\n"
     ]
    },
    {
     "name": "stdout",
     "output_type": "stream",
     "text": [
      "Epoch 10/10\n",
      ",Train Loss: 0.2140, Train Acc: 0.9160, Val Loss: 0.2512, Val Acc: 0.8985\n",
      "\n",
      "Training with Learning Rate: 1e-05 \n",
      "\n",
      "\n",
      "Loaded previous best model with accuracy: 0.9011752136752137\n"
     ]
    },
    {
     "name": "stdout",
     "output_type": "stream",
     "text": [
      "Epoch 1/10\n",
      ",Train Loss: 0.6372, Train Acc: 0.6352, Val Loss: 0.5818, Val Acc: 0.6985\n",
      "\n"
     ]
    },
    {
     "name": "stdout",
     "output_type": "stream",
     "text": [
      "Epoch 2/10\n",
      ",Train Loss: 0.5917, Train Acc: 0.6856, Val Loss: 0.5569, Val Acc: 0.7142\n",
      "\n"
     ]
    },
    {
     "name": "stdout",
     "output_type": "stream",
     "text": [
      "Epoch 3/10\n",
      ",Train Loss: 0.5691, Train Acc: 0.7070, Val Loss: 0.5372, Val Acc: 0.7356\n",
      "\n"
     ]
    },
    {
     "name": "stdout",
     "output_type": "stream",
     "text": [
      "Epoch 4/10\n",
      ",Train Loss: 0.5537, Train Acc: 0.7231, Val Loss: 0.5494, Val Acc: 0.7262\n",
      "\n"
     ]
    },
    {
     "name": "stdout",
     "output_type": "stream",
     "text": [
      "Epoch 5/10\n",
      ",Train Loss: 0.5383, Train Acc: 0.7329, Val Loss: 0.5132, Val Acc: 0.7484\n",
      "\n"
     ]
    },
    {
     "name": "stdout",
     "output_type": "stream",
     "text": [
      "Epoch 6/10\n",
      ",Train Loss: 0.5281, Train Acc: 0.7409, Val Loss: 0.5129, Val Acc: 0.7551\n",
      "\n"
     ]
    },
    {
     "name": "stdout",
     "output_type": "stream",
     "text": [
      "Epoch 7/10\n",
      ",Train Loss: 0.5193, Train Acc: 0.7502, Val Loss: 0.4900, Val Acc: 0.7775\n",
      "\n"
     ]
    },
    {
     "name": "stdout",
     "output_type": "stream",
     "text": [
      "Epoch 8/10\n",
      ",Train Loss: 0.5090, Train Acc: 0.7551, Val Loss: 0.4824, Val Acc: 0.7815\n",
      "\n"
     ]
    },
    {
     "name": "stdout",
     "output_type": "stream",
     "text": [
      "Epoch 9/10\n",
      ",Train Loss: 0.5038, Train Acc: 0.7607, Val Loss: 0.4858, Val Acc: 0.7660\n",
      "\n"
     ]
    },
    {
     "name": "stdout",
     "output_type": "stream",
     "text": [
      "Epoch 10/10\n",
      ",Train Loss: 0.4946, Train Acc: 0.7648, Val Loss: 0.4985, Val Acc: 0.7655\n",
      "\n",
      "Training with Learning Rate: 1e-06 \n",
      "\n",
      "\n",
      "Loaded previous best model with accuracy: 0.9011752136752137\n"
     ]
    },
    {
     "name": "stdout",
     "output_type": "stream",
     "text": [
      "Epoch 1/10\n",
      ",Train Loss: 0.6821, Train Acc: 0.5458, Val Loss: 0.6663, Val Acc: 0.6018\n",
      "\n"
     ]
    },
    {
     "name": "stdout",
     "output_type": "stream",
     "text": [
      "Epoch 2/10\n",
      ",Train Loss: 0.6647, Train Acc: 0.6003, Val Loss: 0.6462, Val Acc: 0.6381\n",
      "\n"
     ]
    },
    {
     "name": "stdout",
     "output_type": "stream",
     "text": [
      "Epoch 3/10\n",
      ",Train Loss: 0.6517, Train Acc: 0.6239, Val Loss: 0.6293, Val Acc: 0.6544\n",
      "\n"
     ]
    },
    {
     "name": "stdout",
     "output_type": "stream",
     "text": [
      "Epoch 4/10\n",
      ",Train Loss: 0.6416, Train Acc: 0.6365, Val Loss: 0.6187, Val Acc: 0.6691\n",
      "\n"
     ]
    },
    {
     "name": "stdout",
     "output_type": "stream",
     "text": [
      "Epoch 5/10\n",
      ",Train Loss: 0.6330, Train Acc: 0.6456, Val Loss: 0.6061, Val Acc: 0.6757\n",
      "\n"
     ]
    },
    {
     "name": "stdout",
     "output_type": "stream",
     "text": [
      "Epoch 6/10\n",
      ",Train Loss: 0.6265, Train Acc: 0.6489, Val Loss: 0.6009, Val Acc: 0.6760\n",
      "\n"
     ]
    },
    {
     "name": "stdout",
     "output_type": "stream",
     "text": [
      "Epoch 7/10\n",
      ",Train Loss: 0.6223, Train Acc: 0.6520, Val Loss: 0.5953, Val Acc: 0.6787\n",
      "\n"
     ]
    },
    {
     "name": "stdout",
     "output_type": "stream",
     "text": [
      "Epoch 8/10\n",
      ",Train Loss: 0.6177, Train Acc: 0.6550, Val Loss: 0.5898, Val Acc: 0.6867\n",
      "\n"
     ]
    },
    {
     "name": "stdout",
     "output_type": "stream",
     "text": [
      "Epoch 9/10\n",
      ",Train Loss: 0.6153, Train Acc: 0.6554, Val Loss: 0.5880, Val Acc: 0.6854\n",
      "\n"
     ]
    },
    {
     "name": "stdout",
     "output_type": "stream",
     "text": [
      "Epoch 10/10\n",
      ",Train Loss: 0.6140, Train Acc: 0.6569, Val Loss: 0.5822, Val Acc: 0.6910\n",
      "\n"
     ]
    }
   ],
   "source": [
    "#Original Model\n",
    "print(\"Training BASE w/OLDSNR\\n\")\n",
    "\n",
    "learning_rates = [1e-3,1e-4, 1e-5, 1e-6]\n",
    "\n",
    "for learning_rate in learning_rates:\n",
    "    print(f\"Training with Learning Rate: {learning_rate} \\n\\n\")\n",
    "    device = torch.device(\"cuda\" if torch.cuda.is_available() else \"cpu\")\n",
    "    model = BaseClassifier(kernels).to(device)\n",
    "    optimizer = AdamW(model.parameters(), lr=learning_rate)\n",
    "    best_model_path = '/home/kosta/code/School/SentryAI/pth/best_model_oldSMR_Base.pth'\n",
    "\n",
    "\n",
    "    ut.train_and_validate(model, train_loader, val_loader, optimizer, device, num_epochs=10, best_model_path= best_model_path)\n",
    "\n"
   ]
  }
 ],
 "metadata": {
  "kernelspec": {
   "display_name": "Python 3",
   "language": "python",
   "name": "python3"
  },
  "language_info": {
   "codemirror_mode": {
    "name": "ipython",
    "version": 3
   },
   "file_extension": ".py",
   "mimetype": "text/x-python",
   "name": "python",
   "nbconvert_exporter": "python",
   "pygments_lexer": "ipython3",
   "version": "3.10.12"
  }
 },
 "nbformat": 4,
 "nbformat_minor": 2
}
