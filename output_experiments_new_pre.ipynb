{
 "cells": [
  {
   "cell_type": "code",
   "execution_count": 1,
   "metadata": {
    "execution": {
     "iopub.execute_input": "2024-04-29T10:27:21.918454Z",
     "iopub.status.busy": "2024-04-29T10:27:21.918000Z",
     "iopub.status.idle": "2024-04-29T10:27:23.295312Z",
     "shell.execute_reply": "2024-04-29T10:27:23.294667Z"
    }
   },
   "outputs": [],
   "source": [
    "import torch\n",
    "import torch.nn as nn\n",
    "import torch.nn.functional as F\n",
    "import cv2\n",
    "\n",
    "import numpy as np\n",
    "from collections import defaultdict\n",
    "\n",
    "\n",
    "from PIL import Image, ImageFilter\n",
    "import io\n",
    "import re\n",
    "import random\n",
    "import numpy.random as npr\n",
    "from skimage import data\n",
    "from scipy.ndimage import rotate\n",
    "from kernels import *\n",
    "import torchvision\n",
    "from torchvision import models\n",
    "import os\n",
    "from torchvision.transforms.functional import to_pil_image\n",
    "from torch.utils.data import Dataset, DataLoader, Subset\n",
    "\n",
    "import torchvision.transforms as transforms\n",
    " \n",
    "import my_utils as ut\n",
    "import old_utils_averaged_filters as old_ut_avg\n",
    "import old_utils_multi_image_old_snr as old_ut_multi\n",
    "from transformers import Swinv2ForImageClassification, SwinConfig\n",
    "from torch.optim import AdamW\n",
    "from torchvision import transforms, datasets\n",
    "\n"
   ]
  },
  {
   "cell_type": "code",
   "execution_count": 2,
   "metadata": {
    "execution": {
     "iopub.execute_input": "2024-04-29T10:27:23.297376Z",
     "iopub.status.busy": "2024-04-29T10:27:23.297052Z",
     "iopub.status.idle": "2024-04-29T10:27:26.169258Z",
     "shell.execute_reply": "2024-04-29T10:27:26.168691Z"
    }
   },
   "outputs": [],
   "source": [
    "\n",
    "transform = transforms.Compose([\n",
    "    transforms.ToTensor(),\n",
    "    transforms.Normalize(mean=[0.485, 0.456, 0.406], std=[0.229, 0.224, 0.225]),\n",
    "   \n",
    "])\n",
    "\n",
    "# Create dataset instances\n",
    "train_dataset = ut.DatasetAI(root_dir='/mnt/e/GenImage', transform=transform, split='train')\n",
    "val_test_dataset = ut.DatasetAI(root_dir='/mnt/e/GenImage', transform=transform, split='val')\n",
    "\n",
    "\n",
    "train_subset,val_subset, test_subset = ut.split_datasets(train_dataset, val_test_dataset, 30000, 3750, 3750)\n",
    "\n",
    "\n",
    "\n",
    "\n",
    "\n",
    "\n",
    "train_loader = DataLoader(train_subset, batch_size=32, shuffle=True, num_workers=4)\n",
    "val_loader = DataLoader(val_subset, batch_size=32, shuffle=False, num_workers=4)\n",
    "test_loader = DataLoader(test_subset, batch_size=32, shuffle=False, num_workers=4)\n",
    "\n"
   ]
  },
  {
   "cell_type": "code",
   "execution_count": 3,
   "metadata": {
    "execution": {
     "iopub.execute_input": "2024-04-29T10:27:26.171065Z",
     "iopub.status.busy": "2024-04-29T10:27:26.170843Z",
     "iopub.status.idle": "2024-04-29T10:27:26.205805Z",
     "shell.execute_reply": "2024-04-29T10:27:26.205365Z"
    }
   },
   "outputs": [
    {
     "name": "stdout",
     "output_type": "stream",
     "text": [
      "Check overlap between datasets:\n",
      "\n",
      "\n",
      "Train Subset and Validation Subset:\n",
      "No actual data overlap detected.\n",
      "\n",
      "Train Subset and Test Subset:\n",
      "No actual data overlap detected.\n",
      "\n",
      "Validation Subset and Test Subset:\n",
      "No actual data overlap detected.\n",
      "\n",
      "\n",
      "Train Subset Distribution:\n",
      "\n",
      "Total samples in subset: 30000\n",
      "Model ADM, Class nature: 1815 (6.05%)\n",
      "Model ADM, Class ai: 1935 (6.45%)\n",
      "Model BigGAN, Class ai: 1867 (6.22%)\n",
      "Model BigGAN, Class nature: 1883 (6.28%)\n",
      "Model Midjourney, Class ai: 1884 (6.28%)\n",
      "Model Midjourney, Class nature: 1866 (6.22%)\n",
      "Model VQDM, Class ai: 1810 (6.03%)\n",
      "Model VQDM, Class nature: 1940 (6.47%)\n",
      "Model glide, Class ai: 1891 (6.30%)\n",
      "Model glide, Class nature: 1859 (6.20%)\n",
      "Model stable_diffusion_v_1_4, Class ai: 1892 (6.31%)\n",
      "Model stable_diffusion_v_1_4, Class nature: 1858 (6.19%)\n",
      "Model stable_diffusion_v_1_5, Class nature: 1828 (6.09%)\n",
      "Model stable_diffusion_v_1_5, Class ai: 1922 (6.41%)\n",
      "Model wukong, Class nature: 1852 (6.17%)\n",
      "Model wukong, Class ai: 1898 (6.33%)\n",
      "\n",
      "Validation Subset Distribution:\n",
      "\n",
      "Total samples in subset: 3744\n",
      "Model ADM, Class nature: 237 (6.33%)\n",
      "Model ADM, Class ai: 231 (6.17%)\n",
      "Model BigGAN, Class nature: 237 (6.33%)\n",
      "Model BigGAN, Class ai: 231 (6.17%)\n",
      "Model Midjourney, Class nature: 230 (6.14%)\n",
      "Model Midjourney, Class ai: 238 (6.36%)\n",
      "Model VQDM, Class ai: 211 (5.64%)\n",
      "Model VQDM, Class nature: 257 (6.86%)\n",
      "Model glide, Class nature: 220 (5.88%)\n",
      "Model glide, Class ai: 248 (6.62%)\n",
      "Model stable_diffusion_v_1_4, Class nature: 219 (5.85%)\n",
      "Model stable_diffusion_v_1_4, Class ai: 249 (6.65%)\n",
      "Model stable_diffusion_v_1_5, Class nature: 234 (6.25%)\n",
      "Model stable_diffusion_v_1_5, Class ai: 234 (6.25%)\n",
      "Model wukong, Class ai: 253 (6.76%)\n",
      "Model wukong, Class nature: 215 (5.74%)\n",
      "\n",
      "Test Subset Distribution:\n",
      "\n",
      "Total samples in subset: 3744\n",
      "Model ADM, Class nature: 241 (6.44%)\n",
      "Model ADM, Class ai: 227 (6.06%)\n",
      "Model BigGAN, Class nature: 237 (6.33%)\n",
      "Model BigGAN, Class ai: 231 (6.17%)\n",
      "Model Midjourney, Class ai: 218 (5.82%)\n",
      "Model Midjourney, Class nature: 250 (6.68%)\n",
      "Model VQDM, Class nature: 240 (6.41%)\n",
      "Model VQDM, Class ai: 228 (6.09%)\n",
      "Model glide, Class nature: 246 (6.57%)\n",
      "Model glide, Class ai: 222 (5.93%)\n",
      "Model stable_diffusion_v_1_4, Class ai: 231 (6.17%)\n",
      "Model stable_diffusion_v_1_4, Class nature: 237 (6.33%)\n",
      "Model stable_diffusion_v_1_5, Class nature: 246 (6.57%)\n",
      "Model stable_diffusion_v_1_5, Class ai: 222 (5.93%)\n",
      "Model wukong, Class nature: 241 (6.44%)\n",
      "Model wukong, Class ai: 227 (6.06%)\n"
     ]
    }
   ],
   "source": [
    "#check distribution of classes \n",
    "\n",
    "print(\"Check overlap between datasets:\\n\")\n",
    "print(\"\\nTrain Subset and Validation Subset:\")\n",
    "ut.check_data_overlap(train_subset, val_subset)\n",
    "print(\"\\nTrain Subset and Test Subset:\")\n",
    "ut.check_data_overlap(train_subset, test_subset)\n",
    "print(\"\\nValidation Subset and Test Subset:\")\n",
    "ut.check_data_overlap(val_subset, test_subset)\n",
    "\n",
    "print()\n",
    "print(\"\\nTrain Subset Distribution:\\n\")\n",
    "ut.print_model_class_distribution(train_dataset, train_subset.indices)\n",
    "print(\"\\nValidation Subset Distribution:\\n\")\n",
    "ut.print_model_class_distribution(val_test_dataset, val_subset.indices)\n",
    "print(\"\\nTest Subset Distribution:\\n\")\n",
    "ut.print_model_class_distribution(val_test_dataset, test_subset.indices)"
   ]
  },
  {
   "cell_type": "code",
   "execution_count": 4,
   "metadata": {
    "execution": {
     "iopub.execute_input": "2024-04-29T10:27:26.220955Z",
     "iopub.status.busy": "2024-04-29T10:27:26.220596Z",
     "iopub.status.idle": "2024-04-29T10:27:26.223506Z",
     "shell.execute_reply": "2024-04-29T10:27:26.223096Z"
    }
   },
   "outputs": [],
   "source": [
    "class BaseClassifier(nn.Module):\n",
    "    def __init__(self,kernels):\n",
    "        super(BaseClassifier, self).__init__()\n",
    "        self.feature_combiner = ut.CNNBlock(kernels)\n",
    "        self.feature_combiner2 = ut.CNNBlock(kernels)\n",
    "        self.classifier = ut.DeepClassifier() \n",
    "\n",
    " \n",
    "    def forward(self, rich, poor):\n",
    "       \n",
    "        x = self.feature_combiner(rich)\n",
    "        y = self.feature_combiner2(poor)   \n",
    "        feature_difference = x - y\n",
    "        outputs = self.classifier(feature_difference)\n",
    "\n",
    "        return outputs"
   ]
  },
  {
   "cell_type": "code",
   "execution_count": 5,
   "metadata": {
    "execution": {
     "iopub.execute_input": "2024-04-29T10:27:26.224703Z",
     "iopub.status.busy": "2024-04-29T10:27:26.224519Z",
     "iopub.status.idle": "2024-04-29T10:27:26.227757Z",
     "shell.execute_reply": "2024-04-29T10:27:26.227363Z"
    }
   },
   "outputs": [],
   "source": [
    "class ResNetClassifier(nn.Module):\n",
    "    def __init__(self,kernels):\n",
    "        super(ResNetClassifier, self).__init__()\n",
    "        self.feature_combiner = ut.CNNBlock(kernels)\n",
    "        self.feature_combiner2 = ut.CNNBlock(kernels)\n",
    "        resnet_weights = models.ResNet50_Weights.DEFAULT\n",
    "        self.resnet = models.resnet50(weights=resnet_weights)\n",
    "        # Remove the final fully connected layer\n",
    "        self.features = nn.Sequential(*list(self.resnet.children())[:-2])\n",
    "        # Add a new classifier layer\n",
    "        self.classifier = nn.Linear(self.resnet.fc.in_features, 2)\n",
    "        # Adaptive pool to make sure output from feature maps is of fixed size\n",
    "        self.adaptive_pool = nn.AdaptiveAvgPool2d((1, 1))\n",
    "\n",
    " \n",
    "    def forward(self, rich, poor):\n",
    "       \n",
    "        x = self.feature_combiner(rich)\n",
    "        y = self.feature_combiner2(poor)   \n",
    "        feature_difference = x - y\n",
    "        \n",
    "        # Process feature difference through the ResNet features\n",
    "        features = self.features(feature_difference)\n",
    "        pooled_features = self.adaptive_pool(features)\n",
    "        flat_features = torch.flatten(pooled_features, 1)\n",
    "        outputs = self.classifier(flat_features)\n",
    "\n",
    "        return outputs"
   ]
  },
  {
   "cell_type": "code",
   "execution_count": 6,
   "metadata": {
    "execution": {
     "iopub.execute_input": "2024-04-29T10:27:26.229148Z",
     "iopub.status.busy": "2024-04-29T10:27:26.228902Z",
     "iopub.status.idle": "2024-04-29T10:27:26.231940Z",
     "shell.execute_reply": "2024-04-29T10:27:26.231540Z"
    }
   },
   "outputs": [],
   "source": [
    "class SwinClassification(nn.Module):\n",
    "    def __init__(self,kernels):\n",
    "        super(SwinClassification, self).__init__()\n",
    "        self.feature_combiner = ut.CNNBlock(kernels)\n",
    "        self.feature_combiner2 = ut.CNNBlock(kernels)\n",
    "        config = SwinConfig.from_pretrained('microsoft/swinv2-tiny-patch4-window8-256',num_classes=2)\n",
    "        self.transformer = Swinv2ForImageClassification.from_pretrained(\n",
    "            \"microsoft/swinv2-tiny-patch4-window8-256\",\n",
    "            config=config\n",
    "        )\n",
    "        \n",
    "        self.transformer.classifier = nn.Linear(config.hidden_size, 2) \n",
    "\n",
    " \n",
    "    def forward(self, rich, poor):\n",
    "       \n",
    "        x = self.feature_combiner(rich)\n",
    "        y = self.feature_combiner2(poor)   \n",
    "        feature_difference = x - y\n",
    "        outputs = self.transformer(feature_difference)\n",
    "\n",
    "        return outputs.logits\n"
   ]
  },
  {
   "cell_type": "markdown",
   "metadata": {},
   "source": [
    "## Train with freezing the pretrained models and only train the last layer with new preprocessing"
   ]
  },
  {
   "cell_type": "code",
   "execution_count": 7,
   "metadata": {
    "execution": {
     "iopub.execute_input": "2024-04-29T10:27:26.233267Z",
     "iopub.status.busy": "2024-04-29T10:27:26.233039Z",
     "iopub.status.idle": "2024-04-29T11:33:07.179602Z",
     "shell.execute_reply": "2024-04-29T11:33:07.179076Z"
    }
   },
   "outputs": [
    {
     "name": "stdout",
     "output_type": "stream",
     "text": [
      "Training SWIN Transformer Frozen w/New Pre\n",
      "\n",
      "Training with Learning Rate for SWIN: 0.001 \n",
      "\n",
      "\n"
     ]
    },
    {
     "name": "stderr",
     "output_type": "stream",
     "text": [
      "You are using a model of type swinv2 to instantiate a model of type swin. This is not supported for all configurations of models and can yield errors.\n"
     ]
    },
    {
     "name": "stdout",
     "output_type": "stream",
     "text": [
      "No saved model found. Starting fresh!\n"
     ]
    },
    {
     "name": "stdout",
     "output_type": "stream",
     "text": [
      "Epoch 1/10\n",
      ",Train Loss: 0.3895, Train Acc: 0.8254, Val Loss: 0.2093, Val Acc: 0.9279\n",
      "\n",
      "Saved new best model with accuracy: 0.9279\n"
     ]
    },
    {
     "name": "stdout",
     "output_type": "stream",
     "text": [
      "Epoch 2/10\n",
      ",Train Loss: 0.2740, Train Acc: 0.8868, Val Loss: 0.1849, Val Acc: 0.9290\n",
      "\n",
      "Saved new best model with accuracy: 0.9290\n"
     ]
    },
    {
     "name": "stdout",
     "output_type": "stream",
     "text": [
      "Epoch 3/10\n",
      ",Train Loss: 0.2416, Train Acc: 0.9005, Val Loss: 0.1208, Val Acc: 0.9575\n",
      "\n",
      "Saved new best model with accuracy: 0.9575\n"
     ]
    },
    {
     "name": "stdout",
     "output_type": "stream",
     "text": [
      "Epoch 4/10\n",
      ",Train Loss: 0.2102, Train Acc: 0.9163, Val Loss: 0.1120, Val Acc: 0.9589\n",
      "\n",
      "Saved new best model with accuracy: 0.9589\n"
     ]
    },
    {
     "name": "stdout",
     "output_type": "stream",
     "text": [
      "Epoch 5/10\n",
      ",Train Loss: 0.1969, Train Acc: 0.9225, Val Loss: 0.0942, Val Acc: 0.9671\n",
      "\n",
      "Saved new best model with accuracy: 0.9671\n"
     ]
    },
    {
     "name": "stdout",
     "output_type": "stream",
     "text": [
      "Epoch 6/10\n",
      ",Train Loss: 0.1873, Train Acc: 0.9264, Val Loss: 0.0888, Val Acc: 0.9685\n",
      "\n",
      "Saved new best model with accuracy: 0.9685\n"
     ]
    },
    {
     "name": "stdout",
     "output_type": "stream",
     "text": [
      "Epoch 7/10\n",
      ",Train Loss: 0.1794, Train Acc: 0.9314, Val Loss: 0.0850, Val Acc: 0.9704\n",
      "\n",
      "Saved new best model with accuracy: 0.9704\n"
     ]
    },
    {
     "name": "stdout",
     "output_type": "stream",
     "text": [
      "Epoch 8/10\n",
      ",Train Loss: 0.1698, Train Acc: 0.9354, Val Loss: 0.0823, Val Acc: 0.9704\n",
      "\n"
     ]
    },
    {
     "name": "stdout",
     "output_type": "stream",
     "text": [
      "Epoch 9/10\n",
      ",Train Loss: 0.1652, Train Acc: 0.9370, Val Loss: 0.0805, Val Acc: 0.9690\n",
      "\n"
     ]
    },
    {
     "name": "stdout",
     "output_type": "stream",
     "text": [
      "Epoch 10/10\n",
      ",Train Loss: 0.1628, Train Acc: 0.9374, Val Loss: 0.0756, Val Acc: 0.9757\n",
      "\n",
      "Saved new best model with accuracy: 0.9757\n",
      "Training with Learning Rate for SWIN: 0.0001 \n",
      "\n",
      "\n"
     ]
    },
    {
     "name": "stderr",
     "output_type": "stream",
     "text": [
      "You are using a model of type swinv2 to instantiate a model of type swin. This is not supported for all configurations of models and can yield errors.\n"
     ]
    },
    {
     "name": "stdout",
     "output_type": "stream",
     "text": [
      "Loaded previous best model with accuracy: 0.9756944444444444\n"
     ]
    },
    {
     "name": "stdout",
     "output_type": "stream",
     "text": [
      "Epoch 1/10\n",
      ",Train Loss: 0.5430, Train Acc: 0.7322, Val Loss: 0.4004, Val Acc: 0.8443\n",
      "\n"
     ]
    },
    {
     "name": "stdout",
     "output_type": "stream",
     "text": [
      "Epoch 2/10\n",
      ",Train Loss: 0.4441, Train Acc: 0.8009, Val Loss: 0.3363, Val Acc: 0.8731\n",
      "\n"
     ]
    },
    {
     "name": "stdout",
     "output_type": "stream",
     "text": [
      "Epoch 3/10\n",
      ",Train Loss: 0.3985, Train Acc: 0.8245, Val Loss: 0.2996, Val Acc: 0.8894\n",
      "\n"
     ]
    },
    {
     "name": "stdout",
     "output_type": "stream",
     "text": [
      "Epoch 4/10\n",
      ",Train Loss: 0.3687, Train Acc: 0.8409, Val Loss: 0.2855, Val Acc: 0.8878\n",
      "\n"
     ]
    },
    {
     "name": "stdout",
     "output_type": "stream",
     "text": [
      "Epoch 5/10\n",
      ",Train Loss: 0.3512, Train Acc: 0.8501, Val Loss: 0.2618, Val Acc: 0.9001\n",
      "\n"
     ]
    },
    {
     "name": "stdout",
     "output_type": "stream",
     "text": [
      "Epoch 6/10\n",
      ",Train Loss: 0.3371, Train Acc: 0.8560, Val Loss: 0.2509, Val Acc: 0.9062\n",
      "\n"
     ]
    },
    {
     "name": "stdout",
     "output_type": "stream",
     "text": [
      "Epoch 7/10\n",
      ",Train Loss: 0.3224, Train Acc: 0.8657, Val Loss: 0.2417, Val Acc: 0.9108\n",
      "\n"
     ]
    },
    {
     "name": "stdout",
     "output_type": "stream",
     "text": [
      "Epoch 8/10\n",
      ",Train Loss: 0.3097, Train Acc: 0.8723, Val Loss: 0.2246, Val Acc: 0.9185\n",
      "\n"
     ]
    },
    {
     "name": "stdout",
     "output_type": "stream",
     "text": [
      "Epoch 9/10\n",
      ",Train Loss: 0.3050, Train Acc: 0.8752, Val Loss: 0.2203, Val Acc: 0.9196\n",
      "\n"
     ]
    },
    {
     "name": "stdout",
     "output_type": "stream",
     "text": [
      "Epoch 10/10\n",
      ",Train Loss: 0.2952, Train Acc: 0.8777, Val Loss: 0.2125, Val Acc: 0.9255\n",
      "\n",
      "Training with Learning Rate for SWIN: 1e-05 \n",
      "\n",
      "\n"
     ]
    },
    {
     "name": "stderr",
     "output_type": "stream",
     "text": [
      "You are using a model of type swinv2 to instantiate a model of type swin. This is not supported for all configurations of models and can yield errors.\n"
     ]
    },
    {
     "name": "stdout",
     "output_type": "stream",
     "text": [
      "Loaded previous best model with accuracy: 0.9756944444444444\n"
     ]
    },
    {
     "name": "stdout",
     "output_type": "stream",
     "text": [
      "Epoch 1/10\n",
      ",Train Loss: 0.6877, Train Acc: 0.5425, Val Loss: 0.6457, Val Acc: 0.6498\n",
      "\n"
     ]
    },
    {
     "name": "stdout",
     "output_type": "stream",
     "text": [
      "Epoch 2/10\n",
      ",Train Loss: 0.6389, Train Acc: 0.6432, Val Loss: 0.5991, Val Acc: 0.7001\n",
      "\n"
     ]
    },
    {
     "name": "stdout",
     "output_type": "stream",
     "text": [
      "Epoch 3/10\n",
      ",Train Loss: 0.6099, Train Acc: 0.6768, Val Loss: 0.5671, Val Acc: 0.7206\n",
      "\n"
     ]
    },
    {
     "name": "stdout",
     "output_type": "stream",
     "text": [
      "Epoch 4/10\n",
      ",Train Loss: 0.5929, Train Acc: 0.6897, Val Loss: 0.5457, Val Acc: 0.7425\n",
      "\n"
     ]
    },
    {
     "name": "stdout",
     "output_type": "stream",
     "text": [
      "Epoch 5/10\n",
      ",Train Loss: 0.5768, Train Acc: 0.7090, Val Loss: 0.5290, Val Acc: 0.7601\n",
      "\n"
     ]
    },
    {
     "name": "stdout",
     "output_type": "stream",
     "text": [
      "Epoch 6/10\n",
      ",Train Loss: 0.5664, Train Acc: 0.7170, Val Loss: 0.5127, Val Acc: 0.7660\n",
      "\n"
     ]
    },
    {
     "name": "stdout",
     "output_type": "stream",
     "text": [
      "Epoch 7/10\n",
      ",Train Loss: 0.5549, Train Acc: 0.7291, Val Loss: 0.4996, Val Acc: 0.7762\n",
      "\n"
     ]
    },
    {
     "name": "stdout",
     "output_type": "stream",
     "text": [
      "Epoch 8/10\n",
      ",Train Loss: 0.5444, Train Acc: 0.7331, Val Loss: 0.4886, Val Acc: 0.7861\n",
      "\n"
     ]
    },
    {
     "name": "stdout",
     "output_type": "stream",
     "text": [
      "Epoch 9/10\n",
      ",Train Loss: 0.5324, Train Acc: 0.7440, Val Loss: 0.4753, Val Acc: 0.7898\n",
      "\n"
     ]
    },
    {
     "name": "stdout",
     "output_type": "stream",
     "text": [
      "Epoch 10/10\n",
      ",Train Loss: 0.5260, Train Acc: 0.7481, Val Loss: 0.4633, Val Acc: 0.7959\n",
      "\n"
     ]
    }
   ],
   "source": [
    "#Swin Transformer\n",
    "learning_rates = [1e-3,1e-4, 1e-5 ]\n",
    "#print model and freeze and pre\n",
    "print(\"Training SWIN Transformer Frozen w/New Pre\\n\")\n",
    "\n",
    "for learning_rate in learning_rates: \n",
    "    print(f\"Training with Learning Rate for SWIN: {learning_rate} \\n\\n\")   \n",
    "    device = torch.device(\"cuda\" if torch.cuda.is_available() else \"cpu\")\n",
    "    kernels =  ut.apply_high_pass_filter()\n",
    "    model = SwinClassification(kernels).to(device)\n",
    "    optimizer = AdamW(model.parameters(), lr=learning_rate)\n",
    "    best_model_path = '/home/kosta/code/School/SentryAI/pth/best_model_newPre_SWIN_frozen.pth'\n",
    "\n",
    "    #freeze the transformer layers\n",
    "    for param in model.transformer.parameters():\n",
    "        param.requires_grad = False\n",
    "    #unfreeze the classifier layer\n",
    "    for param in model.transformer.classifier.parameters():\n",
    "        param.requires_grad = True\n",
    "\n",
    "    ut.train_and_validate(model, train_loader, val_loader, optimizer, device, num_epochs=10, best_model_path= best_model_path)\n",
    "\n"
   ]
  },
  {
   "cell_type": "code",
   "execution_count": 8,
   "metadata": {
    "execution": {
     "iopub.execute_input": "2024-04-29T11:33:07.181936Z",
     "iopub.status.busy": "2024-04-29T11:33:07.181681Z",
     "iopub.status.idle": "2024-04-29T12:28:02.181619Z",
     "shell.execute_reply": "2024-04-29T12:28:02.181128Z"
    }
   },
   "outputs": [
    {
     "name": "stdout",
     "output_type": "stream",
     "text": [
      "Training RES Frozen w/New Pre\n",
      "\n",
      "Training with Learning Rate: 0.001 \n",
      "\n",
      "\n"
     ]
    },
    {
     "name": "stdout",
     "output_type": "stream",
     "text": [
      "No saved model found. Starting fresh!\n"
     ]
    },
    {
     "name": "stdout",
     "output_type": "stream",
     "text": [
      "Epoch 1/10\n",
      ",Train Loss: 0.4085, Train Acc: 0.8196, Val Loss: 0.2993, Val Acc: 0.8806\n",
      "\n",
      "Saved new best model with accuracy: 0.8806\n"
     ]
    },
    {
     "name": "stdout",
     "output_type": "stream",
     "text": [
      "Epoch 2/10\n",
      ",Train Loss: 0.3082, Train Acc: 0.8740, Val Loss: 0.2711, Val Acc: 0.8905\n",
      "\n",
      "Saved new best model with accuracy: 0.8905\n"
     ]
    },
    {
     "name": "stdout",
     "output_type": "stream",
     "text": [
      "Epoch 3/10\n",
      ",Train Loss: 0.2818, Train Acc: 0.8846, Val Loss: 0.2419, Val Acc: 0.9095\n",
      "\n",
      "Saved new best model with accuracy: 0.9095\n"
     ]
    },
    {
     "name": "stdout",
     "output_type": "stream",
     "text": [
      "Epoch 4/10\n",
      ",Train Loss: 0.2606, Train Acc: 0.8947, Val Loss: 0.2694, Val Acc: 0.9073\n",
      "\n"
     ]
    },
    {
     "name": "stdout",
     "output_type": "stream",
     "text": [
      "Epoch 5/10\n",
      ",Train Loss: 0.2562, Train Acc: 0.8970, Val Loss: 0.2295, Val Acc: 0.9103\n",
      "\n",
      "Saved new best model with accuracy: 0.9103\n"
     ]
    },
    {
     "name": "stdout",
     "output_type": "stream",
     "text": [
      "Epoch 6/10\n",
      ",Train Loss: 0.2445, Train Acc: 0.9038, Val Loss: 0.2098, Val Acc: 0.9183\n",
      "\n",
      "Saved new best model with accuracy: 0.9183\n"
     ]
    },
    {
     "name": "stdout",
     "output_type": "stream",
     "text": [
      "Epoch 7/10\n",
      ",Train Loss: 0.2435, Train Acc: 0.9031, Val Loss: 0.2052, Val Acc: 0.9196\n",
      "\n",
      "Saved new best model with accuracy: 0.9196\n"
     ]
    },
    {
     "name": "stdout",
     "output_type": "stream",
     "text": [
      "Epoch 8/10\n",
      ",Train Loss: 0.2326, Train Acc: 0.9074, Val Loss: 0.2009, Val Acc: 0.9231\n",
      "\n",
      "Saved new best model with accuracy: 0.9231\n"
     ]
    },
    {
     "name": "stdout",
     "output_type": "stream",
     "text": [
      "Epoch 9/10\n",
      ",Train Loss: 0.2404, Train Acc: 0.9028, Val Loss: 0.2056, Val Acc: 0.9241\n",
      "\n",
      "Saved new best model with accuracy: 0.9241\n"
     ]
    },
    {
     "name": "stdout",
     "output_type": "stream",
     "text": [
      "Epoch 10/10\n",
      ",Train Loss: 0.2355, Train Acc: 0.9055, Val Loss: 0.2100, Val Acc: 0.9145\n",
      "\n",
      "Training with Learning Rate: 0.0001 \n",
      "\n",
      "\n"
     ]
    },
    {
     "name": "stdout",
     "output_type": "stream",
     "text": [
      "Loaded previous best model with accuracy: 0.9241452991452992\n"
     ]
    },
    {
     "name": "stdout",
     "output_type": "stream",
     "text": [
      "Epoch 1/10\n",
      ",Train Loss: 0.5472, Train Acc: 0.7389, Val Loss: 0.4733, Val Acc: 0.7930\n",
      "\n"
     ]
    },
    {
     "name": "stdout",
     "output_type": "stream",
     "text": [
      "Epoch 2/10\n",
      ",Train Loss: 0.4638, Train Acc: 0.7970, Val Loss: 0.4173, Val Acc: 0.8245\n",
      "\n"
     ]
    },
    {
     "name": "stdout",
     "output_type": "stream",
     "text": [
      "Epoch 3/10\n",
      ",Train Loss: 0.4240, Train Acc: 0.8196, Val Loss: 0.3886, Val Acc: 0.8424\n",
      "\n"
     ]
    },
    {
     "name": "stdout",
     "output_type": "stream",
     "text": [
      "Epoch 4/10\n",
      ",Train Loss: 0.3955, Train Acc: 0.8327, Val Loss: 0.3617, Val Acc: 0.8587\n",
      "\n"
     ]
    },
    {
     "name": "stdout",
     "output_type": "stream",
     "text": [
      "Epoch 5/10\n",
      ",Train Loss: 0.3779, Train Acc: 0.8428, Val Loss: 0.3464, Val Acc: 0.8579\n",
      "\n"
     ]
    },
    {
     "name": "stdout",
     "output_type": "stream",
     "text": [
      "Epoch 6/10\n",
      ",Train Loss: 0.3650, Train Acc: 0.8478, Val Loss: 0.3334, Val Acc: 0.8678\n",
      "\n"
     ]
    },
    {
     "name": "stdout",
     "output_type": "stream",
     "text": [
      "Epoch 7/10\n",
      ",Train Loss: 0.3576, Train Acc: 0.8518, Val Loss: 0.3242, Val Acc: 0.8739\n",
      "\n"
     ]
    },
    {
     "name": "stdout",
     "output_type": "stream",
     "text": [
      "Epoch 8/10\n",
      ",Train Loss: 0.3456, Train Acc: 0.8565, Val Loss: 0.3191, Val Acc: 0.8753\n",
      "\n"
     ]
    },
    {
     "name": "stdout",
     "output_type": "stream",
     "text": [
      "Epoch 9/10\n",
      ",Train Loss: 0.3362, Train Acc: 0.8609, Val Loss: 0.3103, Val Acc: 0.8734\n",
      "\n"
     ]
    },
    {
     "name": "stdout",
     "output_type": "stream",
     "text": [
      "Epoch 10/10\n",
      ",Train Loss: 0.3268, Train Acc: 0.8666, Val Loss: 0.3044, Val Acc: 0.8779\n",
      "\n",
      "Training with Learning Rate: 1e-05 \n",
      "\n",
      "\n"
     ]
    },
    {
     "name": "stdout",
     "output_type": "stream",
     "text": [
      "Loaded previous best model with accuracy: 0.9241452991452992\n"
     ]
    },
    {
     "name": "stdout",
     "output_type": "stream",
     "text": [
      "Epoch 1/10\n",
      ",Train Loss: 0.6475, Train Acc: 0.6629, Val Loss: 0.6020, Val Acc: 0.7366\n",
      "\n"
     ]
    },
    {
     "name": "stdout",
     "output_type": "stream",
     "text": [
      "Epoch 2/10\n",
      ",Train Loss: 0.5809, Train Acc: 0.7416, Val Loss: 0.5544, Val Acc: 0.7596\n",
      "\n"
     ]
    },
    {
     "name": "stdout",
     "output_type": "stream",
     "text": [
      "Epoch 3/10\n",
      ",Train Loss: 0.5472, Train Acc: 0.7543, Val Loss: 0.5284, Val Acc: 0.7676\n",
      "\n"
     ]
    },
    {
     "name": "stdout",
     "output_type": "stream",
     "text": [
      "Epoch 4/10\n",
      ",Train Loss: 0.5233, Train Acc: 0.7656, Val Loss: 0.5054, Val Acc: 0.7794\n",
      "\n"
     ]
    },
    {
     "name": "stdout",
     "output_type": "stream",
     "text": [
      "Epoch 5/10\n",
      ",Train Loss: 0.5054, Train Acc: 0.7752, Val Loss: 0.4837, Val Acc: 0.7882\n",
      "\n"
     ]
    },
    {
     "name": "stdout",
     "output_type": "stream",
     "text": [
      "Epoch 6/10\n",
      ",Train Loss: 0.4905, Train Acc: 0.7862, Val Loss: 0.4731, Val Acc: 0.7970\n",
      "\n"
     ]
    },
    {
     "name": "stdout",
     "output_type": "stream",
     "text": [
      "Epoch 7/10\n",
      ",Train Loss: 0.4766, Train Acc: 0.7923, Val Loss: 0.4604, Val Acc: 0.8015\n",
      "\n"
     ]
    },
    {
     "name": "stdout",
     "output_type": "stream",
     "text": [
      "Epoch 8/10\n",
      ",Train Loss: 0.4682, Train Acc: 0.7959, Val Loss: 0.4463, Val Acc: 0.8120\n",
      "\n"
     ]
    },
    {
     "name": "stdout",
     "output_type": "stream",
     "text": [
      "Epoch 9/10\n",
      ",Train Loss: 0.4573, Train Acc: 0.8017, Val Loss: 0.4380, Val Acc: 0.8149\n",
      "\n"
     ]
    },
    {
     "name": "stdout",
     "output_type": "stream",
     "text": [
      "Epoch 10/10\n",
      ",Train Loss: 0.4494, Train Acc: 0.8040, Val Loss: 0.4301, Val Acc: 0.8216\n",
      "\n"
     ]
    }
   ],
   "source": [
    "#ResNET\n",
    "print(\"Training RES Frozen w/New Pre\\n\")\n",
    "learning_rates = [1e-3,1e-4, 1e-5 ]\n",
    "for learning_rate in learning_rates:\n",
    "    print(f\"Training with Learning Rate: {learning_rate} \\n\\n\")\n",
    "    device = torch.device(\"cuda\" if torch.cuda.is_available() else \"cpu\")\n",
    "    kernels =  ut.apply_high_pass_filter()\n",
    "    model = ResNetClassifier(kernels).to(device)\n",
    "    optimizer = AdamW(model.parameters(), lr=learning_rate)\n",
    "    best_model_path = '/home/kosta/code/School/SentryAI/pth/best_model_newPre_RESNET_frozen.pth'\n",
    "\n",
    "    #freeze resnet layers\n",
    "    for param in model.resnet.parameters():\n",
    "        param.requires_grad = False\n",
    "    #unfreeze the classifier layer\n",
    "    for param in model.classifier.parameters():\n",
    "        param.requires_grad = True\n",
    "    ut.train_and_validate(model, train_loader, val_loader, optimizer, device, num_epochs=10, best_model_path= best_model_path)\n",
    "\n"
   ]
  },
  {
   "cell_type": "markdown",
   "metadata": {},
   "source": [
    "## Unfreeze the pretrained model and Original Model with new preprocessing"
   ]
  },
  {
   "cell_type": "code",
   "execution_count": 9,
   "metadata": {
    "execution": {
     "iopub.execute_input": "2024-04-29T12:28:02.183826Z",
     "iopub.status.busy": "2024-04-29T12:28:02.183503Z",
     "iopub.status.idle": "2024-04-29T14:13:30.419726Z",
     "shell.execute_reply": "2024-04-29T14:13:30.419255Z"
    }
   },
   "outputs": [
    {
     "name": "stdout",
     "output_type": "stream",
     "text": [
      "Training SWIN Transformer UNFrozen w/New Pre\n",
      "\n",
      "Training with Learning Rate: 0.001 \n",
      "\n",
      "\n"
     ]
    },
    {
     "name": "stderr",
     "output_type": "stream",
     "text": [
      "You are using a model of type swinv2 to instantiate a model of type swin. This is not supported for all configurations of models and can yield errors.\n"
     ]
    },
    {
     "name": "stdout",
     "output_type": "stream",
     "text": [
      "No saved model found. Starting fresh!\n"
     ]
    },
    {
     "name": "stdout",
     "output_type": "stream",
     "text": [
      "Epoch 1/10\n",
      ",Train Loss: 0.3782, Train Acc: 0.8329, Val Loss: 0.6932, Val Acc: 0.5061\n",
      "\n",
      "Saved new best model with accuracy: 0.5061\n"
     ]
    },
    {
     "name": "stdout",
     "output_type": "stream",
     "text": [
      "Epoch 2/10\n",
      ",Train Loss: 0.6941, Train Acc: 0.5008, Val Loss: 0.6941, Val Acc: 0.5061\n",
      "\n"
     ]
    },
    {
     "name": "stdout",
     "output_type": "stream",
     "text": [
      "Epoch 3/10\n",
      ",Train Loss: 0.6940, Train Acc: 0.5008, Val Loss: 0.6932, Val Acc: 0.4939\n",
      "\n"
     ]
    },
    {
     "name": "stdout",
     "output_type": "stream",
     "text": [
      "Epoch 4/10\n",
      ",Train Loss: 0.6937, Train Acc: 0.5023, Val Loss: 0.6933, Val Acc: 0.4939\n",
      "\n"
     ]
    },
    {
     "name": "stdout",
     "output_type": "stream",
     "text": [
      "Epoch 5/10\n",
      ",Train Loss: 0.6940, Train Acc: 0.5044, Val Loss: 0.6931, Val Acc: 0.5061\n",
      "\n"
     ]
    },
    {
     "name": "stdout",
     "output_type": "stream",
     "text": [
      "Epoch 6/10\n",
      ",Train Loss: 0.6935, Train Acc: 0.5174, Val Loss: 0.6932, Val Acc: 0.5061\n",
      "\n"
     ]
    },
    {
     "name": "stdout",
     "output_type": "stream",
     "text": [
      "Epoch 7/10\n",
      ",Train Loss: 0.6864, Train Acc: 0.5252, Val Loss: 0.6842, Val Acc: 0.5312\n",
      "\n",
      "Saved new best model with accuracy: 0.5312\n"
     ]
    },
    {
     "name": "stdout",
     "output_type": "stream",
     "text": [
      "Epoch 8/10\n",
      ",Train Loss: 0.6858, Train Acc: 0.5203, Val Loss: 0.6931, Val Acc: 0.5061\n",
      "\n"
     ]
    },
    {
     "name": "stdout",
     "output_type": "stream",
     "text": [
      "Epoch 9/10\n",
      ",Train Loss: 0.6935, Train Acc: 0.5014, Val Loss: 0.6963, Val Acc: 0.4939\n",
      "\n"
     ]
    },
    {
     "name": "stdout",
     "output_type": "stream",
     "text": [
      "Epoch 10/10\n",
      ",Train Loss: 0.6938, Train Acc: 0.5015, Val Loss: 0.6943, Val Acc: 0.4939\n",
      "\n",
      "Training with Learning Rate: 0.0001 \n",
      "\n",
      "\n"
     ]
    },
    {
     "name": "stderr",
     "output_type": "stream",
     "text": [
      "You are using a model of type swinv2 to instantiate a model of type swin. This is not supported for all configurations of models and can yield errors.\n"
     ]
    },
    {
     "name": "stdout",
     "output_type": "stream",
     "text": [
      "Loaded previous best model with accuracy: 0.53125\n"
     ]
    },
    {
     "name": "stdout",
     "output_type": "stream",
     "text": [
      "Epoch 1/10\n",
      ",Train Loss: 0.1458, Train Acc: 0.9435, Val Loss: 0.0254, Val Acc: 0.9931\n",
      "\n",
      "Saved new best model with accuracy: 0.9931\n"
     ]
    },
    {
     "name": "stdout",
     "output_type": "stream",
     "text": [
      "Epoch 2/10\n",
      ",Train Loss: 0.0571, Train Acc: 0.9814, Val Loss: 0.0187, Val Acc: 0.9947\n",
      "\n",
      "Saved new best model with accuracy: 0.9947\n"
     ]
    },
    {
     "name": "stdout",
     "output_type": "stream",
     "text": [
      "Epoch 3/10\n",
      ",Train Loss: 0.0405, Train Acc: 0.9872, Val Loss: 0.0169, Val Acc: 0.9955\n",
      "\n",
      "Saved new best model with accuracy: 0.9955\n"
     ]
    },
    {
     "name": "stdout",
     "output_type": "stream",
     "text": [
      "Epoch 4/10\n",
      ",Train Loss: 0.0331, Train Acc: 0.9892, Val Loss: 0.0219, Val Acc: 0.9944\n",
      "\n"
     ]
    },
    {
     "name": "stdout",
     "output_type": "stream",
     "text": [
      "Epoch 5/10\n",
      ",Train Loss: 0.0296, Train Acc: 0.9902, Val Loss: 0.0144, Val Acc: 0.9963\n",
      "\n",
      "Saved new best model with accuracy: 0.9963\n"
     ]
    },
    {
     "name": "stdout",
     "output_type": "stream",
     "text": [
      "Epoch 6/10\n",
      ",Train Loss: 0.0251, Train Acc: 0.9918, Val Loss: 0.0489, Val Acc: 0.9842\n",
      "\n"
     ]
    },
    {
     "name": "stdout",
     "output_type": "stream",
     "text": [
      "Epoch 7/10\n",
      ",Train Loss: 0.0237, Train Acc: 0.9928, Val Loss: 0.0159, Val Acc: 0.9949\n",
      "\n"
     ]
    },
    {
     "name": "stdout",
     "output_type": "stream",
     "text": [
      "Epoch 8/10\n",
      ",Train Loss: 0.0250, Train Acc: 0.9923, Val Loss: 0.0119, Val Acc: 0.9955\n",
      "\n"
     ]
    },
    {
     "name": "stdout",
     "output_type": "stream",
     "text": [
      "Epoch 9/10\n",
      ",Train Loss: 0.0191, Train Acc: 0.9942, Val Loss: 0.0151, Val Acc: 0.9965\n",
      "\n",
      "Saved new best model with accuracy: 0.9965\n"
     ]
    },
    {
     "name": "stdout",
     "output_type": "stream",
     "text": [
      "Epoch 10/10\n",
      ",Train Loss: 0.0181, Train Acc: 0.9946, Val Loss: 0.0107, Val Acc: 0.9968\n",
      "\n",
      "Saved new best model with accuracy: 0.9968\n",
      "Training with Learning Rate: 1e-05 \n",
      "\n",
      "\n"
     ]
    },
    {
     "name": "stderr",
     "output_type": "stream",
     "text": [
      "You are using a model of type swinv2 to instantiate a model of type swin. This is not supported for all configurations of models and can yield errors.\n"
     ]
    },
    {
     "name": "stdout",
     "output_type": "stream",
     "text": [
      "Loaded previous best model with accuracy: 0.9967948717948718\n"
     ]
    },
    {
     "name": "stdout",
     "output_type": "stream",
     "text": [
      "Epoch 1/10\n",
      ",Train Loss: 0.1980, Train Acc: 0.9165, Val Loss: 0.0517, Val Acc: 0.9829\n",
      "\n"
     ]
    },
    {
     "name": "stdout",
     "output_type": "stream",
     "text": [
      "Epoch 2/10\n",
      ",Train Loss: 0.0826, Train Acc: 0.9690, Val Loss: 0.0244, Val Acc: 0.9917\n",
      "\n"
     ]
    },
    {
     "name": "stdout",
     "output_type": "stream",
     "text": [
      "Epoch 3/10\n",
      ",Train Loss: 0.0622, Train Acc: 0.9774, Val Loss: 0.0194, Val Acc: 0.9936\n",
      "\n"
     ]
    },
    {
     "name": "stdout",
     "output_type": "stream",
     "text": [
      "Epoch 4/10\n",
      ",Train Loss: 0.0495, Train Acc: 0.9822, Val Loss: 0.0170, Val Acc: 0.9933\n",
      "\n"
     ]
    },
    {
     "name": "stdout",
     "output_type": "stream",
     "text": [
      "Epoch 5/10\n",
      ",Train Loss: 0.0404, Train Acc: 0.9851, Val Loss: 0.0226, Val Acc: 0.9944\n",
      "\n"
     ]
    },
    {
     "name": "stdout",
     "output_type": "stream",
     "text": [
      "Epoch 6/10\n",
      ",Train Loss: 0.0364, Train Acc: 0.9875, Val Loss: 0.0152, Val Acc: 0.9952\n",
      "\n"
     ]
    },
    {
     "name": "stdout",
     "output_type": "stream",
     "text": [
      "Epoch 7/10\n",
      ",Train Loss: 0.0299, Train Acc: 0.9898, Val Loss: 0.0124, Val Acc: 0.9965\n",
      "\n"
     ]
    },
    {
     "name": "stdout",
     "output_type": "stream",
     "text": [
      "Epoch 8/10\n",
      ",Train Loss: 0.0261, Train Acc: 0.9915, Val Loss: 0.0136, Val Acc: 0.9952\n",
      "\n"
     ]
    },
    {
     "name": "stdout",
     "output_type": "stream",
     "text": [
      "Epoch 9/10\n",
      ",Train Loss: 0.0249, Train Acc: 0.9912, Val Loss: 0.0142, Val Acc: 0.9957\n",
      "\n"
     ]
    },
    {
     "name": "stdout",
     "output_type": "stream",
     "text": [
      "Epoch 10/10\n",
      ",Train Loss: 0.0216, Train Acc: 0.9925, Val Loss: 0.0129, Val Acc: 0.9973\n",
      "\n",
      "Saved new best model with accuracy: 0.9973\n",
      "Training with Learning Rate: 1e-06 \n",
      "\n",
      "\n"
     ]
    },
    {
     "name": "stderr",
     "output_type": "stream",
     "text": [
      "You are using a model of type swinv2 to instantiate a model of type swin. This is not supported for all configurations of models and can yield errors.\n"
     ]
    },
    {
     "name": "stdout",
     "output_type": "stream",
     "text": [
      "Loaded previous best model with accuracy: 0.9973290598290598\n"
     ]
    },
    {
     "name": "stdout",
     "output_type": "stream",
     "text": [
      "Epoch 1/10\n",
      ",Train Loss: 0.5354, Train Acc: 0.7237, Val Loss: 0.2750, Val Acc: 0.8956\n",
      "\n"
     ]
    },
    {
     "name": "stdout",
     "output_type": "stream",
     "text": [
      "Epoch 2/10\n",
      ",Train Loss: 0.3063, Train Acc: 0.8712, Val Loss: 0.1708, Val Acc: 0.9340\n",
      "\n"
     ]
    },
    {
     "name": "stdout",
     "output_type": "stream",
     "text": [
      "Epoch 3/10\n",
      ",Train Loss: 0.2353, Train Acc: 0.9048, Val Loss: 0.1347, Val Acc: 0.9479\n",
      "\n"
     ]
    },
    {
     "name": "stdout",
     "output_type": "stream",
     "text": [
      "Epoch 4/10\n",
      ",Train Loss: 0.1912, Train Acc: 0.9255, Val Loss: 0.1158, Val Acc: 0.9583\n",
      "\n"
     ]
    },
    {
     "name": "stdout",
     "output_type": "stream",
     "text": [
      "Epoch 5/10\n",
      ",Train Loss: 0.1679, Train Acc: 0.9337, Val Loss: 0.0998, Val Acc: 0.9647\n",
      "\n"
     ]
    },
    {
     "name": "stdout",
     "output_type": "stream",
     "text": [
      "Epoch 6/10\n",
      ",Train Loss: 0.1519, Train Acc: 0.9410, Val Loss: 0.0843, Val Acc: 0.9720\n",
      "\n"
     ]
    },
    {
     "name": "stdout",
     "output_type": "stream",
     "text": [
      "Epoch 7/10\n",
      ",Train Loss: 0.1423, Train Acc: 0.9449, Val Loss: 0.0738, Val Acc: 0.9730\n",
      "\n"
     ]
    },
    {
     "name": "stdout",
     "output_type": "stream",
     "text": [
      "Epoch 8/10\n",
      ",Train Loss: 0.1297, Train Acc: 0.9498, Val Loss: 0.0764, Val Acc: 0.9736\n",
      "\n"
     ]
    },
    {
     "name": "stdout",
     "output_type": "stream",
     "text": [
      "Epoch 9/10\n",
      ",Train Loss: 0.1203, Train Acc: 0.9542, Val Loss: 0.0854, Val Acc: 0.9688\n",
      "\n"
     ]
    },
    {
     "name": "stdout",
     "output_type": "stream",
     "text": [
      "Epoch 10/10\n",
      ",Train Loss: 0.1104, Train Acc: 0.9586, Val Loss: 0.0583, Val Acc: 0.9781\n",
      "\n"
     ]
    }
   ],
   "source": [
    "#Swin Transformer\n",
    "learning_rates = [1e-3,1e-4, 1e-5, 1e-6]\n",
    "print(\"Training SWIN Transformer UNFrozen w/New Pre\\n\")\n",
    "for learning_rate in learning_rates:\n",
    "    print(f\"Training with Learning Rate: {learning_rate} \\n\\n\")\n",
    "    device = torch.device(\"cuda\" if torch.cuda.is_available() else \"cpu\")\n",
    "    kernels =  ut.apply_high_pass_filter()\n",
    "    model = SwinClassification(kernels).to(device)\n",
    "    optimizer = AdamW(model.parameters(), lr=learning_rate)\n",
    "    best_model_path = '/home/kosta/code/School/SentryAI/pth/best_model_newPre_SWIN_unfrozen.pth'\n",
    "\n",
    "\n",
    "\n",
    "    ut.train_and_validate(model, train_loader, val_loader, optimizer, device, num_epochs=10, best_model_path= best_model_path)\n",
    "\n"
   ]
  },
  {
   "cell_type": "code",
   "execution_count": 10,
   "metadata": {
    "execution": {
     "iopub.execute_input": "2024-04-29T14:13:30.421632Z",
     "iopub.status.busy": "2024-04-29T14:13:30.421375Z",
     "iopub.status.idle": "2024-04-29T15:28:53.718585Z",
     "shell.execute_reply": "2024-04-29T15:28:53.718115Z"
    }
   },
   "outputs": [
    {
     "name": "stdout",
     "output_type": "stream",
     "text": [
      "Training RES UNFrozen w/New Pre\n",
      "\n",
      "Training with Learning Rate: 0.001 \n",
      "\n",
      "\n"
     ]
    },
    {
     "name": "stdout",
     "output_type": "stream",
     "text": [
      "No saved model found. Starting fresh!\n"
     ]
    },
    {
     "name": "stdout",
     "output_type": "stream",
     "text": [
      "Epoch 1/10\n",
      ",Train Loss: 0.1411, Train Acc: 0.9477, Val Loss: 0.1070, Val Acc: 0.9663\n",
      "\n",
      "Saved new best model with accuracy: 0.9663\n"
     ]
    },
    {
     "name": "stdout",
     "output_type": "stream",
     "text": [
      "Epoch 2/10\n",
      ",Train Loss: 0.0623, Train Acc: 0.9787, Val Loss: 0.0447, Val Acc: 0.9858\n",
      "\n",
      "Saved new best model with accuracy: 0.9858\n"
     ]
    },
    {
     "name": "stdout",
     "output_type": "stream",
     "text": [
      "Epoch 3/10\n",
      ",Train Loss: 0.0520, Train Acc: 0.9824, Val Loss: 0.0261, Val Acc: 0.9920\n",
      "\n",
      "Saved new best model with accuracy: 0.9920\n"
     ]
    },
    {
     "name": "stdout",
     "output_type": "stream",
     "text": [
      "Epoch 4/10\n",
      ",Train Loss: 0.0395, Train Acc: 0.9871, Val Loss: 0.0314, Val Acc: 0.9899\n",
      "\n"
     ]
    },
    {
     "name": "stdout",
     "output_type": "stream",
     "text": [
      "Epoch 5/10\n",
      ",Train Loss: 0.0339, Train Acc: 0.9889, Val Loss: 0.0205, Val Acc: 0.9944\n",
      "\n",
      "Saved new best model with accuracy: 0.9944\n"
     ]
    },
    {
     "name": "stdout",
     "output_type": "stream",
     "text": [
      "Epoch 6/10\n",
      ",Train Loss: 0.0287, Train Acc: 0.9902, Val Loss: 0.0269, Val Acc: 0.9928\n",
      "\n"
     ]
    },
    {
     "name": "stdout",
     "output_type": "stream",
     "text": [
      "Epoch 7/10\n",
      ",Train Loss: 0.0280, Train Acc: 0.9911, Val Loss: 0.0197, Val Acc: 0.9933\n",
      "\n"
     ]
    },
    {
     "name": "stdout",
     "output_type": "stream",
     "text": [
      "Epoch 8/10\n",
      ",Train Loss: 0.0257, Train Acc: 0.9916, Val Loss: 0.0386, Val Acc: 0.9880\n",
      "\n"
     ]
    },
    {
     "name": "stdout",
     "output_type": "stream",
     "text": [
      "Epoch 9/10\n",
      ",Train Loss: 0.0218, Train Acc: 0.9934, Val Loss: 0.0214, Val Acc: 0.9936\n",
      "\n"
     ]
    },
    {
     "name": "stdout",
     "output_type": "stream",
     "text": [
      "Epoch 10/10\n",
      ",Train Loss: 0.0180, Train Acc: 0.9942, Val Loss: 0.0172, Val Acc: 0.9941\n",
      "\n",
      "Training with Learning Rate: 0.0001 \n",
      "\n",
      "\n"
     ]
    },
    {
     "name": "stdout",
     "output_type": "stream",
     "text": [
      "Loaded previous best model with accuracy: 0.9943910256410257\n"
     ]
    },
    {
     "name": "stdout",
     "output_type": "stream",
     "text": [
      "Epoch 1/10\n",
      ",Train Loss: 0.1686, Train Acc: 0.9334, Val Loss: 0.0956, Val Acc: 0.9650\n",
      "\n"
     ]
    },
    {
     "name": "stdout",
     "output_type": "stream",
     "text": [
      "Epoch 2/10\n",
      ",Train Loss: 0.0755, Train Acc: 0.9734, Val Loss: 0.0362, Val Acc: 0.9890\n",
      "\n"
     ]
    },
    {
     "name": "stdout",
     "output_type": "stream",
     "text": [
      "Epoch 3/10\n",
      ",Train Loss: 0.0478, Train Acc: 0.9836, Val Loss: 0.0449, Val Acc: 0.9880\n",
      "\n"
     ]
    },
    {
     "name": "stdout",
     "output_type": "stream",
     "text": [
      "Epoch 4/10\n",
      ",Train Loss: 0.0379, Train Acc: 0.9864, Val Loss: 0.0604, Val Acc: 0.9850\n",
      "\n"
     ]
    },
    {
     "name": "stdout",
     "output_type": "stream",
     "text": [
      "Epoch 5/10\n",
      ",Train Loss: 0.0292, Train Acc: 0.9902, Val Loss: 0.0363, Val Acc: 0.9869\n",
      "\n"
     ]
    },
    {
     "name": "stdout",
     "output_type": "stream",
     "text": [
      "Epoch 6/10\n",
      ",Train Loss: 0.0250, Train Acc: 0.9919, Val Loss: 0.0300, Val Acc: 0.9907\n",
      "\n"
     ]
    },
    {
     "name": "stdout",
     "output_type": "stream",
     "text": [
      "Epoch 7/10\n",
      ",Train Loss: 0.0217, Train Acc: 0.9925, Val Loss: 0.0323, Val Acc: 0.9896\n",
      "\n"
     ]
    },
    {
     "name": "stdout",
     "output_type": "stream",
     "text": [
      "Epoch 8/10\n",
      ",Train Loss: 0.0177, Train Acc: 0.9939, Val Loss: 0.0270, Val Acc: 0.9890\n",
      "\n"
     ]
    },
    {
     "name": "stdout",
     "output_type": "stream",
     "text": [
      "Epoch 9/10\n",
      ",Train Loss: 0.0162, Train Acc: 0.9942, Val Loss: 0.0284, Val Acc: 0.9912\n",
      "\n"
     ]
    },
    {
     "name": "stdout",
     "output_type": "stream",
     "text": [
      "Epoch 10/10\n",
      ",Train Loss: 0.0149, Train Acc: 0.9952, Val Loss: 0.0274, Val Acc: 0.9904\n",
      "\n",
      "Training with Learning Rate: 1e-05 \n",
      "\n",
      "\n"
     ]
    },
    {
     "name": "stdout",
     "output_type": "stream",
     "text": [
      "Loaded previous best model with accuracy: 0.9943910256410257\n"
     ]
    },
    {
     "name": "stdout",
     "output_type": "stream",
     "text": [
      "Epoch 1/10\n",
      ",Train Loss: 0.3700, Train Acc: 0.8406, Val Loss: 0.1542, Val Acc: 0.9466\n",
      "\n"
     ]
    },
    {
     "name": "stdout",
     "output_type": "stream",
     "text": [
      "Epoch 2/10\n",
      ",Train Loss: 0.1529, Train Acc: 0.9423, Val Loss: 0.0981, Val Acc: 0.9663\n",
      "\n"
     ]
    },
    {
     "name": "stdout",
     "output_type": "stream",
     "text": [
      "Epoch 3/10\n",
      ",Train Loss: 0.1082, Train Acc: 0.9597, Val Loss: 0.0823, Val Acc: 0.9728\n",
      "\n"
     ]
    },
    {
     "name": "stdout",
     "output_type": "stream",
     "text": [
      "Epoch 4/10\n",
      ",Train Loss: 0.0812, Train Acc: 0.9708, Val Loss: 0.0853, Val Acc: 0.9709\n",
      "\n"
     ]
    },
    {
     "name": "stdout",
     "output_type": "stream",
     "text": [
      "Epoch 5/10\n",
      ",Train Loss: 0.0628, Train Acc: 0.9766, Val Loss: 0.0662, Val Acc: 0.9784\n",
      "\n"
     ]
    },
    {
     "name": "stdout",
     "output_type": "stream",
     "text": [
      "Epoch 6/10\n",
      ",Train Loss: 0.0525, Train Acc: 0.9808, Val Loss: 0.0615, Val Acc: 0.9786\n",
      "\n"
     ]
    },
    {
     "name": "stdout",
     "output_type": "stream",
     "text": [
      "Epoch 7/10\n",
      ",Train Loss: 0.0435, Train Acc: 0.9846, Val Loss: 0.0603, Val Acc: 0.9784\n",
      "\n"
     ]
    },
    {
     "name": "stdout",
     "output_type": "stream",
     "text": [
      "Epoch 8/10\n",
      ",Train Loss: 0.0356, Train Acc: 0.9878, Val Loss: 0.0624, Val Acc: 0.9786\n",
      "\n"
     ]
    },
    {
     "name": "stdout",
     "output_type": "stream",
     "text": [
      "Epoch 9/10\n",
      ",Train Loss: 0.0313, Train Acc: 0.9893, Val Loss: 0.0599, Val Acc: 0.9808\n",
      "\n"
     ]
    },
    {
     "name": "stdout",
     "output_type": "stream",
     "text": [
      "Epoch 10/10\n",
      ",Train Loss: 0.0267, Train Acc: 0.9914, Val Loss: 0.0572, Val Acc: 0.9850\n",
      "\n",
      "Training with Learning Rate: 1e-06 \n",
      "\n",
      "\n"
     ]
    },
    {
     "name": "stdout",
     "output_type": "stream",
     "text": [
      "Loaded previous best model with accuracy: 0.9943910256410257\n"
     ]
    },
    {
     "name": "stdout",
     "output_type": "stream",
     "text": [
      "Epoch 1/10\n",
      ",Train Loss: 0.6572, Train Acc: 0.6243, Val Loss: 0.6018, Val Acc: 0.7401\n",
      "\n"
     ]
    },
    {
     "name": "stdout",
     "output_type": "stream",
     "text": [
      "Epoch 2/10\n",
      ",Train Loss: 0.5732, Train Acc: 0.7443, Val Loss: 0.5170, Val Acc: 0.7919\n",
      "\n"
     ]
    },
    {
     "name": "stdout",
     "output_type": "stream",
     "text": [
      "Epoch 3/10\n",
      ",Train Loss: 0.5054, Train Acc: 0.7813, Val Loss: 0.4409, Val Acc: 0.8312\n",
      "\n"
     ]
    },
    {
     "name": "stdout",
     "output_type": "stream",
     "text": [
      "Epoch 4/10\n",
      ",Train Loss: 0.4338, Train Acc: 0.8202, Val Loss: 0.3711, Val Acc: 0.8622\n",
      "\n"
     ]
    },
    {
     "name": "stdout",
     "output_type": "stream",
     "text": [
      "Epoch 5/10\n",
      ",Train Loss: 0.3677, Train Acc: 0.8522, Val Loss: 0.3110, Val Acc: 0.8905\n",
      "\n"
     ]
    },
    {
     "name": "stdout",
     "output_type": "stream",
     "text": [
      "Epoch 6/10\n",
      ",Train Loss: 0.3192, Train Acc: 0.8746, Val Loss: 0.2727, Val Acc: 0.9068\n",
      "\n"
     ]
    },
    {
     "name": "stdout",
     "output_type": "stream",
     "text": [
      "Epoch 7/10\n",
      ",Train Loss: 0.2865, Train Acc: 0.8873, Val Loss: 0.2390, Val Acc: 0.9137\n",
      "\n"
     ]
    },
    {
     "name": "stdout",
     "output_type": "stream",
     "text": [
      "Epoch 8/10\n",
      ",Train Loss: 0.2623, Train Acc: 0.8969, Val Loss: 0.2233, Val Acc: 0.9153\n",
      "\n"
     ]
    },
    {
     "name": "stdout",
     "output_type": "stream",
     "text": [
      "Epoch 9/10\n",
      ",Train Loss: 0.2392, Train Acc: 0.9065, Val Loss: 0.2049, Val Acc: 0.9252\n",
      "\n"
     ]
    },
    {
     "name": "stdout",
     "output_type": "stream",
     "text": [
      "Epoch 10/10\n",
      ",Train Loss: 0.2228, Train Acc: 0.9128, Val Loss: 0.1898, Val Acc: 0.9314\n",
      "\n"
     ]
    }
   ],
   "source": [
    "#ResNET\n",
    "print(\"Training RES UNFrozen w/New Pre\\n\")\n",
    "\n",
    "for learning_rate in learning_rates:\n",
    "    \n",
    "    print(f\"Training with Learning Rate: {learning_rate} \\n\\n\")\n",
    "    device = torch.device(\"cuda\" if torch.cuda.is_available() else \"cpu\")\n",
    "    kernels =  ut.apply_high_pass_filter()\n",
    "    model = ResNetClassifier(kernels).to(device)\n",
    "    optimizer = AdamW(model.parameters(), lr=learning_rate)\n",
    "    best_model_path = '/home/kosta/code/School/SentryAI/pth/best_model_newPre_RESNET_unfrozen.pth'\n",
    "\n",
    "\n",
    "    ut.train_and_validate(model, train_loader, val_loader, optimizer, device, num_epochs=10, best_model_path= best_model_path)\n",
    "\n"
   ]
  },
  {
   "cell_type": "code",
   "execution_count": 11,
   "metadata": {
    "execution": {
     "iopub.execute_input": "2024-04-29T15:28:53.720714Z",
     "iopub.status.busy": "2024-04-29T15:28:53.720436Z",
     "iopub.status.idle": "2024-04-29T16:42:50.730298Z",
     "shell.execute_reply": "2024-04-29T16:42:50.729709Z"
    }
   },
   "outputs": [
    {
     "name": "stdout",
     "output_type": "stream",
     "text": [
      "Training BASE w/New Pre\n",
      "\n",
      "Training with Learning Rate: 0.001 \n",
      "\n",
      "\n",
      "No saved model found. Starting fresh!\n"
     ]
    },
    {
     "name": "stdout",
     "output_type": "stream",
     "text": [
      "Epoch 1/10\n",
      ",Train Loss: 0.4081, Train Acc: 0.8161, Val Loss: 0.1967, Val Acc: 0.9220\n",
      "\n",
      "Saved new best model with accuracy: 0.9220\n"
     ]
    },
    {
     "name": "stdout",
     "output_type": "stream",
     "text": [
      "Epoch 2/10\n",
      ",Train Loss: 0.2205, Train Acc: 0.9177, Val Loss: 0.3419, Val Acc: 0.8365\n",
      "\n"
     ]
    },
    {
     "name": "stdout",
     "output_type": "stream",
     "text": [
      "Epoch 3/10\n",
      ",Train Loss: 0.1757, Train Acc: 0.9380, Val Loss: 0.1314, Val Acc: 0.9605\n",
      "\n",
      "Saved new best model with accuracy: 0.9605\n"
     ]
    },
    {
     "name": "stdout",
     "output_type": "stream",
     "text": [
      "Epoch 4/10\n",
      ",Train Loss: 0.1465, Train Acc: 0.9471, Val Loss: 0.1205, Val Acc: 0.9623\n",
      "\n",
      "Saved new best model with accuracy: 0.9623\n"
     ]
    },
    {
     "name": "stdout",
     "output_type": "stream",
     "text": [
      "Epoch 5/10\n",
      ",Train Loss: 0.1247, Train Acc: 0.9559, Val Loss: 0.1656, Val Acc: 0.9290\n",
      "\n"
     ]
    },
    {
     "name": "stdout",
     "output_type": "stream",
     "text": [
      "Epoch 6/10\n",
      ",Train Loss: 0.1114, Train Acc: 0.9606, Val Loss: 0.1305, Val Acc: 0.9615\n",
      "\n"
     ]
    },
    {
     "name": "stdout",
     "output_type": "stream",
     "text": [
      "Epoch 7/10\n",
      ",Train Loss: 0.0932, Train Acc: 0.9680, Val Loss: 0.0458, Val Acc: 0.9869\n",
      "\n",
      "Saved new best model with accuracy: 0.9869\n"
     ]
    },
    {
     "name": "stdout",
     "output_type": "stream",
     "text": [
      "Epoch 8/10\n",
      ",Train Loss: 0.0863, Train Acc: 0.9690, Val Loss: 0.0380, Val Acc: 0.9877\n",
      "\n",
      "Saved new best model with accuracy: 0.9877\n"
     ]
    },
    {
     "name": "stdout",
     "output_type": "stream",
     "text": [
      "Epoch 9/10\n",
      ",Train Loss: 0.0745, Train Acc: 0.9736, Val Loss: 0.0421, Val Acc: 0.9869\n",
      "\n"
     ]
    },
    {
     "name": "stdout",
     "output_type": "stream",
     "text": [
      "Epoch 10/10\n",
      ",Train Loss: 0.0727, Train Acc: 0.9749, Val Loss: 0.0367, Val Acc: 0.9882\n",
      "\n",
      "Saved new best model with accuracy: 0.9882\n",
      "Training with Learning Rate: 0.0001 \n",
      "\n",
      "\n",
      "Loaded previous best model with accuracy: 0.9882478632478633\n"
     ]
    },
    {
     "name": "stdout",
     "output_type": "stream",
     "text": [
      "Epoch 1/10\n",
      ",Train Loss: 0.3692, Train Acc: 0.8508, Val Loss: 0.1477, Val Acc: 0.9650\n",
      "\n"
     ]
    },
    {
     "name": "stdout",
     "output_type": "stream",
     "text": [
      "Epoch 2/10\n",
      ",Train Loss: 0.1714, Train Acc: 0.9415, Val Loss: 0.1290, Val Acc: 0.9594\n",
      "\n"
     ]
    },
    {
     "name": "stdout",
     "output_type": "stream",
     "text": [
      "Epoch 3/10\n",
      ",Train Loss: 0.1276, Train Acc: 0.9566, Val Loss: 0.1689, Val Acc: 0.9455\n",
      "\n"
     ]
    },
    {
     "name": "stdout",
     "output_type": "stream",
     "text": [
      "Epoch 4/10\n",
      ",Train Loss: 0.0987, Train Acc: 0.9652, Val Loss: 0.1314, Val Acc: 0.9597\n",
      "\n"
     ]
    },
    {
     "name": "stdout",
     "output_type": "stream",
     "text": [
      "Epoch 5/10\n",
      ",Train Loss: 0.0797, Train Acc: 0.9728, Val Loss: 0.0760, Val Acc: 0.9730\n",
      "\n"
     ]
    },
    {
     "name": "stdout",
     "output_type": "stream",
     "text": [
      "Epoch 6/10\n",
      ",Train Loss: 0.0695, Train Acc: 0.9759, Val Loss: 0.0721, Val Acc: 0.9760\n",
      "\n"
     ]
    },
    {
     "name": "stdout",
     "output_type": "stream",
     "text": [
      "Epoch 7/10\n",
      ",Train Loss: 0.0580, Train Acc: 0.9805, Val Loss: 0.0291, Val Acc: 0.9920\n",
      "\n",
      "Saved new best model with accuracy: 0.9920\n"
     ]
    },
    {
     "name": "stdout",
     "output_type": "stream",
     "text": [
      "Epoch 8/10\n",
      ",Train Loss: 0.0536, Train Acc: 0.9820, Val Loss: 0.0269, Val Acc: 0.9920\n",
      "\n"
     ]
    },
    {
     "name": "stdout",
     "output_type": "stream",
     "text": [
      "Epoch 9/10\n",
      ",Train Loss: 0.0465, Train Acc: 0.9842, Val Loss: 0.0303, Val Acc: 0.9907\n",
      "\n"
     ]
    },
    {
     "name": "stdout",
     "output_type": "stream",
     "text": [
      "Epoch 10/10\n",
      ",Train Loss: 0.0421, Train Acc: 0.9859, Val Loss: 0.0208, Val Acc: 0.9947\n",
      "\n",
      "Saved new best model with accuracy: 0.9947\n",
      "Training with Learning Rate: 1e-05 \n",
      "\n",
      "\n",
      "Loaded previous best model with accuracy: 0.9946581196581197\n"
     ]
    },
    {
     "name": "stdout",
     "output_type": "stream",
     "text": [
      "Epoch 1/10\n",
      ",Train Loss: 0.5867, Train Acc: 0.6951, Val Loss: 0.4629, Val Acc: 0.8256\n",
      "\n"
     ]
    },
    {
     "name": "stdout",
     "output_type": "stream",
     "text": [
      "Epoch 2/10\n",
      ",Train Loss: 0.4305, Train Acc: 0.8346, Val Loss: 0.3538, Val Acc: 0.8809\n",
      "\n"
     ]
    },
    {
     "name": "stdout",
     "output_type": "stream",
     "text": [
      "Epoch 3/10\n",
      ",Train Loss: 0.3692, Train Acc: 0.8694, Val Loss: 0.3104, Val Acc: 0.8969\n",
      "\n"
     ]
    },
    {
     "name": "stdout",
     "output_type": "stream",
     "text": [
      "Epoch 4/10\n",
      ",Train Loss: 0.3345, Train Acc: 0.8851, Val Loss: 0.2810, Val Acc: 0.9105\n",
      "\n"
     ]
    },
    {
     "name": "stdout",
     "output_type": "stream",
     "text": [
      "Epoch 5/10\n",
      ",Train Loss: 0.3035, Train Acc: 0.8978, Val Loss: 0.2652, Val Acc: 0.9188\n",
      "\n"
     ]
    },
    {
     "name": "stdout",
     "output_type": "stream",
     "text": [
      "Epoch 6/10\n",
      ",Train Loss: 0.2805, Train Acc: 0.9071, Val Loss: 0.2501, Val Acc: 0.9111\n",
      "\n"
     ]
    },
    {
     "name": "stdout",
     "output_type": "stream",
     "text": [
      "Epoch 7/10\n",
      ",Train Loss: 0.2566, Train Acc: 0.9179, Val Loss: 0.2552, Val Acc: 0.9092\n",
      "\n"
     ]
    },
    {
     "name": "stdout",
     "output_type": "stream",
     "text": [
      "Epoch 8/10\n",
      ",Train Loss: 0.2385, Train Acc: 0.9233, Val Loss: 0.2150, Val Acc: 0.9324\n",
      "\n"
     ]
    },
    {
     "name": "stdout",
     "output_type": "stream",
     "text": [
      "Epoch 9/10\n",
      ",Train Loss: 0.2240, Train Acc: 0.9300, Val Loss: 0.2349, Val Acc: 0.9116\n",
      "\n"
     ]
    },
    {
     "name": "stdout",
     "output_type": "stream",
     "text": [
      "Epoch 10/10\n",
      ",Train Loss: 0.2098, Train Acc: 0.9336, Val Loss: 0.1818, Val Acc: 0.9444\n",
      "\n",
      "Training with Learning Rate: 1e-06 \n",
      "\n",
      "\n",
      "Loaded previous best model with accuracy: 0.9946581196581197\n"
     ]
    },
    {
     "name": "stdout",
     "output_type": "stream",
     "text": [
      "Epoch 1/10\n",
      ",Train Loss: 0.6678, Train Acc: 0.5818, Val Loss: 0.6408, Val Acc: 0.6341\n",
      "\n"
     ]
    },
    {
     "name": "stdout",
     "output_type": "stream",
     "text": [
      "Epoch 2/10\n",
      ",Train Loss: 0.6426, Train Acc: 0.6248, Val Loss: 0.6146, Val Acc: 0.6648\n",
      "\n"
     ]
    },
    {
     "name": "stdout",
     "output_type": "stream",
     "text": [
      "Epoch 3/10\n",
      ",Train Loss: 0.6301, Train Acc: 0.6409, Val Loss: 0.5989, Val Acc: 0.6749\n",
      "\n"
     ]
    },
    {
     "name": "stdout",
     "output_type": "stream",
     "text": [
      "Epoch 4/10\n",
      ",Train Loss: 0.6199, Train Acc: 0.6537, Val Loss: 0.5934, Val Acc: 0.6923\n",
      "\n"
     ]
    },
    {
     "name": "stdout",
     "output_type": "stream",
     "text": [
      "Epoch 5/10\n",
      ",Train Loss: 0.6069, Train Acc: 0.6739, Val Loss: 0.5727, Val Acc: 0.7067\n",
      "\n"
     ]
    },
    {
     "name": "stdout",
     "output_type": "stream",
     "text": [
      "Epoch 6/10\n",
      ",Train Loss: 0.5957, Train Acc: 0.6866, Val Loss: 0.5650, Val Acc: 0.7230\n",
      "\n"
     ]
    },
    {
     "name": "stdout",
     "output_type": "stream",
     "text": [
      "Epoch 7/10\n",
      ",Train Loss: 0.5839, Train Acc: 0.6977, Val Loss: 0.5637, Val Acc: 0.7305\n",
      "\n"
     ]
    },
    {
     "name": "stdout",
     "output_type": "stream",
     "text": [
      "Epoch 8/10\n",
      ",Train Loss: 0.5702, Train Acc: 0.7109, Val Loss: 0.5378, Val Acc: 0.7479\n",
      "\n"
     ]
    },
    {
     "name": "stdout",
     "output_type": "stream",
     "text": [
      "Epoch 9/10\n",
      ",Train Loss: 0.5567, Train Acc: 0.7265, Val Loss: 0.5253, Val Acc: 0.7604\n",
      "\n"
     ]
    },
    {
     "name": "stdout",
     "output_type": "stream",
     "text": [
      "Epoch 10/10\n",
      ",Train Loss: 0.5425, Train Acc: 0.7373, Val Loss: 0.5158, Val Acc: 0.7687\n",
      "\n"
     ]
    }
   ],
   "source": [
    "#original model\n",
    "print(\"Training BASE w/New Pre\\n\")\n",
    "\n",
    "for learning_rate in learning_rates:\n",
    "    \n",
    "    print(f\"Training with Learning Rate: {learning_rate} \\n\\n\")\n",
    "    device = torch.device(\"cuda\" if torch.cuda.is_available() else \"cpu\")\n",
    "    kernels =  ut.apply_high_pass_filter()\n",
    "    model = BaseClassifier(kernels).to(device)\n",
    "    optimizer = AdamW(model.parameters(), lr=learning_rate)\n",
    "    best_model_path = '/home/kosta/code/School/SentryAI/pth/best_model_newPre_Base.pth'\n",
    "    \n",
    "    \n",
    "    ut.train_and_validate(model, train_loader, val_loader, optimizer, device, num_epochs=10, best_model_path= best_model_path)\n",
    "\n"
   ]
  }
 ],
 "metadata": {
  "kernelspec": {
   "display_name": "Python 3",
   "language": "python",
   "name": "python3"
  },
  "language_info": {
   "codemirror_mode": {
    "name": "ipython",
    "version": 3
   },
   "file_extension": ".py",
   "mimetype": "text/x-python",
   "name": "python",
   "nbconvert_exporter": "python",
   "pygments_lexer": "ipython3",
   "version": "3.10.12"
  }
 },
 "nbformat": 4,
 "nbformat_minor": 2
}
