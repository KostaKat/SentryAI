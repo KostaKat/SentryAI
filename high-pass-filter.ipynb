{
 "cells": [
  {
   "cell_type": "code",
   "execution_count": 1,
   "metadata": {},
   "outputs": [
    {
     "name": "stderr",
     "output_type": "stream",
     "text": [
      "C:\\Users\\akale\\AppData\\Local\\Packages\\PythonSoftwareFoundation.Python.3.10_qbz5n2kfra8p0\\LocalCache\\local-packages\\Python310\\site-packages\\scipy\\__init__.py:155: UserWarning: A NumPy version >=1.18.5 and <1.25.0 is required for this version of SciPy (detected version 1.26.2\n",
      "  warnings.warn(f\"A NumPy version >={np_minversion} and <{np_maxversion}\"\n"
     ]
    }
   ],
   "source": [
    "import cv2\n",
    "import numpy as np\n",
    "from scipy.ndimage import rotate\n",
    "\n",
    "# Read the image\n",
    "image = cv2.imread('./sample_images/fake/0_adm_0.PNG', cv2.IMREAD_GRAYSCALE)\n",
    "filtered_image = image.copy()\n",
    "\n",
    "# Define the original high-pass filter kernel\n",
    "original_kernel = np.array([\n",
    "    [0, 0, 0, 0, 0],\n",
    "    [0, 0, 1, 0, 0],\n",
    "    [0, 0, -1, 0, 0],\n",
    "    [0, 0, 0, 0, 0],\n",
    "    [0, 0, 0, 0, 0]\n",
    "])\n",
    "\n",
    "# Define the angles of rotation in degrees (0°, 45°, 90°, 135°, 180°, 225°, 270°, 315°)\n",
    "angles = [0, 45, 90, 135, 180, 225, 270, 315]\n",
    "\n",
    "rotated_kernels = []\n",
    "\n",
    "# Rotate the kernel at each angle and store the rotated kernel\n",
    "for angle in angles:\n",
    "    # Rotate the kernel at the specified angle\n",
    "    rotated_kernel = rotate(original_kernel, angle, reshape=False)\n",
    "    # Round the values to avoid floating point precision issues\n",
    "    rotated_kernel = np.round(rotated_kernel)\n",
    "    # Add the rotated kernel to the list\n",
    "    rotated_kernels.append(rotated_kernel)\n",
    "\n",
    "# Now, rotated_kernels contains all 8 rotated kernels\n",
    "for i, rotated_kernel in enumerate(rotated_kernels):\n",
    "    # print(f\"Kernel rotated by {angles[i]} degrees:\")\n",
    "    # Apply convolution\n",
    "    filtered_image = cv2.filter2D(filtered_image, -1, rotated_kernel)\n",
    "\n",
    "# Display the original and filtered images\n",
    "cv2.imshow('Original Image', image)\n",
    "cv2.imshow('Filtered Image', filtered_image)\n",
    "cv2.waitKey(0)\n",
    "cv2.destroyAllWindows()"
   ]
  }
 ],
 "metadata": {
  "kernelspec": {
   "display_name": "Python 3",
   "language": "python",
   "name": "python3"
  },
  "language_info": {
   "codemirror_mode": {
    "name": "ipython",
    "version": 3
   },
   "file_extension": ".py",
   "mimetype": "text/x-python",
   "name": "python",
   "nbconvert_exporter": "python",
   "pygments_lexer": "ipython3",
   "version": "3.10.11"
  }
 },
 "nbformat": 4,
 "nbformat_minor": 2
}
