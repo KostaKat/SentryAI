{
 "cells": [
  {
   "cell_type": "code",
   "execution_count": 1,
   "metadata": {},
   "outputs": [
    {
     "name": "stderr",
     "output_type": "stream",
     "text": [
      "/usr/lib/python3/dist-packages/scipy/__init__.py:146: UserWarning: A NumPy version >=1.17.3 and <1.25.0 is required for this version of SciPy (detected version 1.26.4\n",
      "  warnings.warn(f\"A NumPy version >={np_minversion} and <{np_maxversion}\"\n"
     ]
    },
    {
     "name": "stdout",
     "output_type": "stream",
     "text": [
      "30\n"
     ]
    },
    {
     "ename": "",
     "evalue": "",
     "output_type": "error",
     "traceback": [
      "\u001b[1;31mCannot execute code, session has been disposed. Please try restarting the Kernel."
     ]
    },
    {
     "ename": "",
     "evalue": "",
     "output_type": "error",
     "traceback": [
      "\u001b[1;31mCannot execute code, session has been disposed. Please try restarting the Kernel. \n",
      "\u001b[1;31mView Jupyter <a href='command:jupyter.viewOutput'>log</a> for further details."
     ]
    }
   ],
   "source": [
    "import cv2\n",
    "import numpy as np\n",
    "from scipy.ndimage import rotate\n",
    "from kernels import *\n",
    "# Read the image\n",
    "image = cv2.imread('./sample_images/fake/0_adm_0.PNG', cv2.IMREAD_GRAYSCALE)\n",
    "filtered_images= []\n",
    "\n",
    "rotated_kernels = []\n",
    "\n",
    "# Rotate every kernel at every angle and store the rotated kernel\n",
    "for idx, kernel in enumerate(kernels):\n",
    "    for angle in angles[idx]:\n",
    "        # Rotate the kernel at the specified angle\n",
    "        rotated_kernel = rotate(kernel, angle, reshape=False)\n",
    "        # Round the values to avoid floating point precision issues\n",
    "        rotated_kernels.append(rotated_kernel)\n",
    "        # Add the rotated kernel to the list\n",
    "        rotated_kernel = np.round(rotated_kernel)\n",
    "\n",
    "for rotated_kernel in rotated_kernels:\n",
    "    # Apply convolution\n",
    "    filtered_images.append( cv2.filter2D(image, -1, rotated_kernel))\n",
    "\n",
    "print(len(rotated_kernels))\n",
    "\n",
    "# Display the original and filtered images\n",
    "cv2.imshow('Original Image', image)\n",
    "for idx, filtered_image in enumerate(filtered_images):\n",
    "    cv2.imshow('Filtered Image', filtered_image)\n",
    "    cv2.waitKey(0)\n",
    "    cv2.destroyAllWindows()\n"
   ]
  },
  {
   "cell_type": "code",
   "execution_count": null,
   "metadata": {},
   "outputs": [],
   "source": []
  }
 ],
 "metadata": {
  "kernelspec": {
   "display_name": "Python 3",
   "language": "python",
   "name": "python3"
  },
  "language_info": {
   "codemirror_mode": {
    "name": "ipython",
    "version": 3
   },
   "file_extension": ".py",
   "mimetype": "text/x-python",
   "name": "python",
   "nbconvert_exporter": "python",
   "pygments_lexer": "ipython3",
   "version": "3.10.6"
  }
 },
 "nbformat": 4,
 "nbformat_minor": 2
}
